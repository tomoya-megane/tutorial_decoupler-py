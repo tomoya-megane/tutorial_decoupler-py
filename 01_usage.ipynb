{
 "cells": [
  {
   "cell_type": "markdown",
   "id": "713d9b4a",
   "metadata": {},
   "source": [
    "# Usage\n",
    "\n",
    "`decoupler` contains different statistical methods to infer enrichment scores from omics data using prior knowledge. In this notebook we showcase how to use it with some toy data."
   ]
  },
  {
   "cell_type": "markdown",
   "id": "63e9268b-add2-465a-a6f2-0294a16f1d8a",
   "metadata": {},
   "source": [
    "decouplerには、事前知識を用いてオミックスデータからエンリッチメントスコアを推測するための様々な統計的手法が含まれている。このノートブックでは、おもちゃのデータを使った使い方を紹介する。"
   ]
  },
  {
   "cell_type": "markdown",
   "id": "2337c9d3",
   "metadata": {},
   "source": [
    "## Loading packages\n",
    "\n",
    "`decoupler` can be imported as:"
   ]
  },
  {
   "cell_type": "code",
   "execution_count": 1,
   "id": "b7e99394-7575-49c7-9eee-68d8757a6c87",
   "metadata": {},
   "outputs": [],
   "source": [
    "import matplotlib.pyplot as plt"
   ]
  },
  {
   "cell_type": "code",
   "execution_count": 2,
   "id": "f31c41bb-0711-422e-b17c-230bba387c39",
   "metadata": {},
   "outputs": [],
   "source": [
    "import seaborn as sns"
   ]
  },
  {
   "cell_type": "code",
   "execution_count": 3,
   "id": "8dd66119-759b-40fa-b31e-e3c75d0d90b6",
   "metadata": {},
   "outputs": [],
   "source": [
    "import decoupler as dc"
   ]
  },
  {
   "cell_type": "markdown",
   "id": "3316c8ad",
   "metadata": {},
   "source": [
    "## Loading toy data\n",
    "\n",
    "`decoupler` needs a matrix (`mat`) of molecular readouts (gene expression, logFC, p-values, etc.) and a network (`net`) that relates target features (genes, proteins, etc.) to \"source\" biological entities (pathways, transcription factors, molecular processes, etc.)\n",
    "\n",
    "To load the example data-set, simply run:"
   ]
  },
  {
   "cell_type": "markdown",
   "id": "62cf961d-96b8-4bb5-a644-5795cb3d0019",
   "metadata": {},
   "source": [
    "decouplerが必要とするのは、分子の読み出し値（遺伝子発現、logFC、p値など）のマトリックス（mat）と、ターゲットの特徴（遺伝子、タンパク質など）を「ソース」生物学的実体（パスウェイ、転写因子、分子プロセスなど）に関連付けるネットワーク（net）である。\n",
    "\n",
    "サンプルのデータセットを読み込むには、次のように実行するだけでよい："
   ]
  },
  {
   "cell_type": "code",
   "execution_count": 4,
   "id": "1a85cb79",
   "metadata": {},
   "outputs": [],
   "source": [
    "mat, net = dc.get_toy_data()"
   ]
  },
  {
   "cell_type": "code",
   "execution_count": 9,
   "id": "cddc3630-4f02-4fd2-b777-1a4b37cc6a1c",
   "metadata": {},
   "outputs": [
    {
     "data": {
      "text/html": [
       "<div>\n",
       "<style scoped>\n",
       "    .dataframe tbody tr th:only-of-type {\n",
       "        vertical-align: middle;\n",
       "    }\n",
       "\n",
       "    .dataframe tbody tr th {\n",
       "        vertical-align: top;\n",
       "    }\n",
       "\n",
       "    .dataframe thead th {\n",
       "        text-align: right;\n",
       "    }\n",
       "</style>\n",
       "<table border=\"1\" class=\"dataframe\">\n",
       "  <thead>\n",
       "    <tr style=\"text-align: right;\">\n",
       "      <th></th>\n",
       "      <th>G01</th>\n",
       "      <th>G02</th>\n",
       "      <th>G03</th>\n",
       "      <th>G04</th>\n",
       "      <th>G05</th>\n",
       "      <th>G06</th>\n",
       "      <th>G07</th>\n",
       "      <th>G08</th>\n",
       "      <th>G09</th>\n",
       "      <th>G10</th>\n",
       "      <th>G11</th>\n",
       "      <th>G12</th>\n",
       "    </tr>\n",
       "  </thead>\n",
       "  <tbody>\n",
       "    <tr>\n",
       "      <th>S01</th>\n",
       "      <td>8.304717</td>\n",
       "      <td>9.039984</td>\n",
       "      <td>8.750451</td>\n",
       "      <td>8.940565</td>\n",
       "      <td>1.951035</td>\n",
       "      <td>1.302180</td>\n",
       "      <td>0.127840</td>\n",
       "      <td>0.316243</td>\n",
       "      <td>0.016801</td>\n",
       "      <td>0.853044</td>\n",
       "      <td>0.879398</td>\n",
       "      <td>0.777792</td>\n",
       "    </tr>\n",
       "    <tr>\n",
       "      <th>S02</th>\n",
       "      <td>8.066031</td>\n",
       "      <td>9.127241</td>\n",
       "      <td>8.467509</td>\n",
       "      <td>8.859292</td>\n",
       "      <td>0.368751</td>\n",
       "      <td>0.958883</td>\n",
       "      <td>0.878450</td>\n",
       "      <td>0.049926</td>\n",
       "      <td>0.184862</td>\n",
       "      <td>0.680930</td>\n",
       "      <td>1.222541</td>\n",
       "      <td>0.154529</td>\n",
       "    </tr>\n",
       "    <tr>\n",
       "      <th>S03</th>\n",
       "      <td>8.428328</td>\n",
       "      <td>8.352134</td>\n",
       "      <td>8.532309</td>\n",
       "      <td>8.365444</td>\n",
       "      <td>0.412733</td>\n",
       "      <td>0.430821</td>\n",
       "      <td>2.141648</td>\n",
       "      <td>0.406415</td>\n",
       "      <td>0.512243</td>\n",
       "      <td>0.813773</td>\n",
       "      <td>0.615979</td>\n",
       "      <td>1.128972</td>\n",
       "    </tr>\n",
       "    <tr>\n",
       "      <th>S04</th>\n",
       "      <td>8.113947</td>\n",
       "      <td>8.840156</td>\n",
       "      <td>8.824481</td>\n",
       "      <td>8.650593</td>\n",
       "      <td>0.743254</td>\n",
       "      <td>0.543154</td>\n",
       "      <td>0.665510</td>\n",
       "      <td>0.232161</td>\n",
       "      <td>0.116686</td>\n",
       "      <td>0.218689</td>\n",
       "      <td>0.871429</td>\n",
       "      <td>0.223596</td>\n",
       "    </tr>\n",
       "    <tr>\n",
       "      <th>S05</th>\n",
       "      <td>8.678914</td>\n",
       "      <td>8.067579</td>\n",
       "      <td>8.289119</td>\n",
       "      <td>8.631288</td>\n",
       "      <td>1.457156</td>\n",
       "      <td>0.319671</td>\n",
       "      <td>0.470373</td>\n",
       "      <td>0.638878</td>\n",
       "      <td>0.275142</td>\n",
       "      <td>1.494941</td>\n",
       "      <td>0.865831</td>\n",
       "      <td>0.968278</td>\n",
       "    </tr>\n",
       "  </tbody>\n",
       "</table>\n",
       "</div>"
      ],
      "text/plain": [
       "          G01       G02       G03       G04       G05       G06       G07  \\\n",
       "S01  8.304717  9.039984  8.750451  8.940565  1.951035  1.302180  0.127840   \n",
       "S02  8.066031  9.127241  8.467509  8.859292  0.368751  0.958883  0.878450   \n",
       "S03  8.428328  8.352134  8.532309  8.365444  0.412733  0.430821  2.141648   \n",
       "S04  8.113947  8.840156  8.824481  8.650593  0.743254  0.543154  0.665510   \n",
       "S05  8.678914  8.067579  8.289119  8.631288  1.457156  0.319671  0.470373   \n",
       "\n",
       "          G08       G09       G10       G11       G12  \n",
       "S01  0.316243  0.016801  0.853044  0.879398  0.777792  \n",
       "S02  0.049926  0.184862  0.680930  1.222541  0.154529  \n",
       "S03  0.406415  0.512243  0.813773  0.615979  1.128972  \n",
       "S04  0.232161  0.116686  0.218689  0.871429  0.223596  \n",
       "S05  0.638878  0.275142  1.494941  0.865831  0.968278  "
      ]
     },
     "execution_count": 9,
     "metadata": {},
     "output_type": "execute_result"
    }
   ],
   "source": [
    "mat.head()"
   ]
  },
  {
   "cell_type": "code",
   "execution_count": 10,
   "id": "1ce10c00-b116-44f1-b046-883b1877beb7",
   "metadata": {},
   "outputs": [
    {
     "data": {
      "text/html": [
       "<div>\n",
       "<style scoped>\n",
       "    .dataframe tbody tr th:only-of-type {\n",
       "        vertical-align: middle;\n",
       "    }\n",
       "\n",
       "    .dataframe tbody tr th {\n",
       "        vertical-align: top;\n",
       "    }\n",
       "\n",
       "    .dataframe thead th {\n",
       "        text-align: right;\n",
       "    }\n",
       "</style>\n",
       "<table border=\"1\" class=\"dataframe\">\n",
       "  <thead>\n",
       "    <tr style=\"text-align: right;\">\n",
       "      <th></th>\n",
       "      <th>source</th>\n",
       "      <th>target</th>\n",
       "      <th>weight</th>\n",
       "    </tr>\n",
       "  </thead>\n",
       "  <tbody>\n",
       "    <tr>\n",
       "      <th>0</th>\n",
       "      <td>T1</td>\n",
       "      <td>G01</td>\n",
       "      <td>1.0</td>\n",
       "    </tr>\n",
       "    <tr>\n",
       "      <th>1</th>\n",
       "      <td>T1</td>\n",
       "      <td>G02</td>\n",
       "      <td>1.0</td>\n",
       "    </tr>\n",
       "    <tr>\n",
       "      <th>2</th>\n",
       "      <td>T1</td>\n",
       "      <td>G03</td>\n",
       "      <td>0.7</td>\n",
       "    </tr>\n",
       "    <tr>\n",
       "      <th>3</th>\n",
       "      <td>T2</td>\n",
       "      <td>G04</td>\n",
       "      <td>1.0</td>\n",
       "    </tr>\n",
       "    <tr>\n",
       "      <th>4</th>\n",
       "      <td>T2</td>\n",
       "      <td>G06</td>\n",
       "      <td>-0.5</td>\n",
       "    </tr>\n",
       "  </tbody>\n",
       "</table>\n",
       "</div>"
      ],
      "text/plain": [
       "  source target  weight\n",
       "0     T1    G01     1.0\n",
       "1     T1    G02     1.0\n",
       "2     T1    G03     0.7\n",
       "3     T2    G04     1.0\n",
       "4     T2    G06    -0.5"
      ]
     },
     "execution_count": 10,
     "metadata": {},
     "output_type": "execute_result"
    }
   ],
   "source": [
    "net.head()"
   ]
  },
  {
   "cell_type": "markdown",
   "id": "59856674",
   "metadata": {},
   "source": [
    "This example consists of two small populations of samples (S, rows) with different gene expression patterns (G, columns):"
   ]
  },
  {
   "cell_type": "markdown",
   "id": "d521086d-016a-4cf1-9b27-a949dd8052d8",
   "metadata": {},
   "source": [
    "この例は、異なる遺伝子発現パターン（G、列）を持つ2つの小さなサンプル集団（S、行）からなる："
   ]
  },
  {
   "cell_type": "code",
   "execution_count": 33,
   "id": "80c04914-4939-48e9-80dd-b19395292b01",
   "metadata": {},
   "outputs": [
    {
     "data": {
      "image/png": "[encoded data removed]",
      "text/plain": [
       "<Figure size 300x300 with 2 Axes>"
      ]
     },
     "metadata": {},
     "output_type": "display_data"
    }
   ],
   "source": [
    "fig, ax = plt.subplots(\n",
    "    1, 1, figsize=(3, 3), tight_layout=True, sharey=True\n",
    ")\n",
    "\n",
    "sns.heatmap(mat, cmap='viridis', ax=ax)\n",
    "\n",
    "plt.show()"
   ]
  },
  {
   "cell_type": "markdown",
   "id": "6898f90c",
   "metadata": {},
   "source": [
    "Here we can see that some genes seem to be more expressed in one group of samples than in the other and vice-versa. Ideally, we would like to capture these differences in gene programs into interpretable biological entities. In this example we will do it by summarizing gene expression into transcription factor activities."
   ]
  },
  {
   "cell_type": "markdown",
   "id": "ab820efd",
   "metadata": {},
   "source": [
    "The toy data also contains a simple `net` consisting of 5 transcription factors (Ts) with specific regulation to target genes (Gs), either positive or negative:"
   ]
  },
  {
   "cell_type": "markdown",
   "id": "605ac9f5-e57e-408a-b324-91075bce6f7d",
   "metadata": {},
   "source": [
    "ここで、ある遺伝子はあるサンプル群では他のサンプル群よりも発現量が多く、またその逆もあることがわかる。理想的には、このような遺伝子プログラムの違いを、解釈可能な生物学的実体としてとらえたい。この例では、遺伝子発現を転写因子活性に要約することでそれを実現する。\n",
    "\n",
    "このおもちゃのデータには、5つの転写因子（Ts）からなる単純なネットが含まれており、標的遺伝子（Gs）に対して正または負のどちらかの特異的な制御が行われている："
   ]
  },
  {
   "cell_type": "code",
   "execution_count": 8,
   "id": "184c02ee",
   "metadata": {},
   "outputs": [
    {
     "data": {
      "text/html": [
       "<div>\n",
       "<style scoped>\n",
       "    .dataframe tbody tr th:only-of-type {\n",
       "        vertical-align: middle;\n",
       "    }\n",
       "\n",
       "    .dataframe tbody tr th {\n",
       "        vertical-align: top;\n",
       "    }\n",
       "\n",
       "    .dataframe thead th {\n",
       "        text-align: right;\n",
       "    }\n",
       "</style>\n",
       "<table border=\"1\" class=\"dataframe\">\n",
       "  <thead>\n",
       "    <tr style=\"text-align: right;\">\n",
       "      <th></th>\n",
       "      <th>source</th>\n",
       "      <th>target</th>\n",
       "      <th>weight</th>\n",
       "    </tr>\n",
       "  </thead>\n",
       "  <tbody>\n",
       "    <tr>\n",
       "      <th>0</th>\n",
       "      <td>T1</td>\n",
       "      <td>G01</td>\n",
       "      <td>1.0</td>\n",
       "    </tr>\n",
       "    <tr>\n",
       "      <th>1</th>\n",
       "      <td>T1</td>\n",
       "      <td>G02</td>\n",
       "      <td>1.0</td>\n",
       "    </tr>\n",
       "    <tr>\n",
       "      <th>2</th>\n",
       "      <td>T1</td>\n",
       "      <td>G03</td>\n",
       "      <td>0.7</td>\n",
       "    </tr>\n",
       "    <tr>\n",
       "      <th>3</th>\n",
       "      <td>T2</td>\n",
       "      <td>G04</td>\n",
       "      <td>1.0</td>\n",
       "    </tr>\n",
       "    <tr>\n",
       "      <th>4</th>\n",
       "      <td>T2</td>\n",
       "      <td>G06</td>\n",
       "      <td>-0.5</td>\n",
       "    </tr>\n",
       "    <tr>\n",
       "      <th>5</th>\n",
       "      <td>T2</td>\n",
       "      <td>G07</td>\n",
       "      <td>-3.0</td>\n",
       "    </tr>\n",
       "    <tr>\n",
       "      <th>6</th>\n",
       "      <td>T2</td>\n",
       "      <td>G08</td>\n",
       "      <td>-1.0</td>\n",
       "    </tr>\n",
       "    <tr>\n",
       "      <th>7</th>\n",
       "      <td>T3</td>\n",
       "      <td>G06</td>\n",
       "      <td>1.0</td>\n",
       "    </tr>\n",
       "    <tr>\n",
       "      <th>8</th>\n",
       "      <td>T3</td>\n",
       "      <td>G07</td>\n",
       "      <td>0.5</td>\n",
       "    </tr>\n",
       "    <tr>\n",
       "      <th>9</th>\n",
       "      <td>T3</td>\n",
       "      <td>G08</td>\n",
       "      <td>1.0</td>\n",
       "    </tr>\n",
       "    <tr>\n",
       "      <th>10</th>\n",
       "      <td>T4</td>\n",
       "      <td>G05</td>\n",
       "      <td>1.9</td>\n",
       "    </tr>\n",
       "    <tr>\n",
       "      <th>11</th>\n",
       "      <td>T4</td>\n",
       "      <td>G10</td>\n",
       "      <td>-1.5</td>\n",
       "    </tr>\n",
       "    <tr>\n",
       "      <th>12</th>\n",
       "      <td>T4</td>\n",
       "      <td>G11</td>\n",
       "      <td>-2.0</td>\n",
       "    </tr>\n",
       "    <tr>\n",
       "      <th>13</th>\n",
       "      <td>T4</td>\n",
       "      <td>G09</td>\n",
       "      <td>3.1</td>\n",
       "    </tr>\n",
       "    <tr>\n",
       "      <th>14</th>\n",
       "      <td>T5</td>\n",
       "      <td>G09</td>\n",
       "      <td>0.7</td>\n",
       "    </tr>\n",
       "    <tr>\n",
       "      <th>15</th>\n",
       "      <td>T5</td>\n",
       "      <td>G10</td>\n",
       "      <td>1.1</td>\n",
       "    </tr>\n",
       "    <tr>\n",
       "      <th>16</th>\n",
       "      <td>T5</td>\n",
       "      <td>G11</td>\n",
       "      <td>0.1</td>\n",
       "    </tr>\n",
       "  </tbody>\n",
       "</table>\n",
       "</div>"
      ],
      "text/plain": [
       "   source target  weight\n",
       "0      T1    G01     1.0\n",
       "1      T1    G02     1.0\n",
       "2      T1    G03     0.7\n",
       "3      T2    G04     1.0\n",
       "4      T2    G06    -0.5\n",
       "5      T2    G07    -3.0\n",
       "6      T2    G08    -1.0\n",
       "7      T3    G06     1.0\n",
       "8      T3    G07     0.5\n",
       "9      T3    G08     1.0\n",
       "10     T4    G05     1.9\n",
       "11     T4    G10    -1.5\n",
       "12     T4    G11    -2.0\n",
       "13     T4    G09     3.1\n",
       "14     T5    G09     0.7\n",
       "15     T5    G10     1.1\n",
       "16     T5    G11     0.1"
      ]
     },
     "execution_count": 8,
     "metadata": {},
     "output_type": "execute_result"
    }
   ],
   "source": [
    "net"
   ]
  },
  {
   "cell_type": "markdown",
   "id": "2f5a37e7",
   "metadata": {},
   "source": [
    "This network can be visualized like a graph. Green edges are positive regulation (activation), red edges are negative regulation (inactivation):"
   ]
  },
  {
   "cell_type": "markdown",
   "id": "9f24fec7-1ed1-4bcc-b113-52c8b62761e2",
   "metadata": {},
   "source": [
    "このネットワークはグラフのように視覚化できる。緑のエッジは正の調節（活性化）、赤のエッジは負の調節（不活性化）である："
   ]
  },
  {
   "cell_type": "code",
   "execution_count": 11,
   "id": "b42dce4d-6725-4798-acf4-c8e365b9c3c9",
   "metadata": {},
   "outputs": [
    {
     "data": {
      "image/png": "[encoded data removed]",
      "text/plain": [
       "<Figure size 600x600 with 3 Axes>"
      ]
     },
     "metadata": {},
     "output_type": "display_data"
    }
   ],
   "source": [
    "dc.plot_network(\n",
    "    net,\n",
    "    node_size=50,\n",
    "    figsize=(4, 4),\n",
    "    s_cmap='white',\n",
    "    t_cmap='white',\n",
    "    c_pos_w='darkgreen',\n",
    "    c_neg_w='darkred'\n",
    ")"
   ]
  },
  {
   "cell_type": "markdown",
   "id": "e2eba9a7",
   "metadata": {},
   "source": [
    "According to this network, the first population of samples should show high activity for T1 and T2, while the second one for T3 and T4. T5 should have no activity in all samples."
   ]
  },
  {
   "cell_type": "markdown",
   "id": "83d3f243-6bb8-4504-9ac5-47483ee1f7b8",
   "metadata": {},
   "source": [
    "このネットワークによると、最初のサンプル集団はT1とT2に高い活性を示し、2番目のサンプル集団はT3とT4に高い活性を示すはずである。T5はすべてのサンプルで活性がないはずである。"
   ]
  },
  {
   "cell_type": "markdown",
   "id": "0adc4371",
   "metadata": {},
   "source": [
    "## Methods\n",
    "\n",
    "`decoupler` contains several methods. To check how many are available, run:"
   ]
  },
  {
   "cell_type": "markdown",
   "id": "98c76aac-9ff3-4756-816c-631bfb6e93b1",
   "metadata": {},
   "source": [
    "decouplerにはいくつかのメソッドがある。使用可能なメソッドの数を確認するには、以下を実行する："
   ]
  },
  {
   "cell_type": "code",
   "execution_count": 12,
   "id": "8d022899",
   "metadata": {},
   "outputs": [
    {
     "data": {
      "text/html": [
       "<div>\n",
       "<style scoped>\n",
       "    .dataframe tbody tr th:only-of-type {\n",
       "        vertical-align: middle;\n",
       "    }\n",
       "\n",
       "    .dataframe tbody tr th {\n",
       "        vertical-align: top;\n",
       "    }\n",
       "\n",
       "    .dataframe thead th {\n",
       "        text-align: right;\n",
       "    }\n",
       "</style>\n",
       "<table border=\"1\" class=\"dataframe\">\n",
       "  <thead>\n",
       "    <tr style=\"text-align: right;\">\n",
       "      <th></th>\n",
       "      <th>Function</th>\n",
       "      <th>Name</th>\n",
       "    </tr>\n",
       "  </thead>\n",
       "  <tbody>\n",
       "    <tr>\n",
       "      <th>0</th>\n",
       "      <td>run_aucell</td>\n",
       "      <td>AUCell.</td>\n",
       "    </tr>\n",
       "    <tr>\n",
       "      <th>1</th>\n",
       "      <td>run_consensus</td>\n",
       "      <td>Consensus score from top methods.</td>\n",
       "    </tr>\n",
       "    <tr>\n",
       "      <th>2</th>\n",
       "      <td>run_gsea</td>\n",
       "      <td>Gene Set Enrichment Analysis (GSEA).</td>\n",
       "    </tr>\n",
       "    <tr>\n",
       "      <th>3</th>\n",
       "      <td>run_gsva</td>\n",
       "      <td>Gene Set Variation Analysis (GSVA).</td>\n",
       "    </tr>\n",
       "    <tr>\n",
       "      <th>4</th>\n",
       "      <td>run_mdt</td>\n",
       "      <td>Multivariate Decision Tree (MDT).</td>\n",
       "    </tr>\n",
       "    <tr>\n",
       "      <th>5</th>\n",
       "      <td>run_mlm</td>\n",
       "      <td>Multivariate Linear Model (MLM).</td>\n",
       "    </tr>\n",
       "    <tr>\n",
       "      <th>6</th>\n",
       "      <td>run_ora</td>\n",
       "      <td>Over Representation Analysis (ORA).</td>\n",
       "    </tr>\n",
       "    <tr>\n",
       "      <th>7</th>\n",
       "      <td>run_udt</td>\n",
       "      <td>Univariate Decision Tree (UDT).</td>\n",
       "    </tr>\n",
       "    <tr>\n",
       "      <th>8</th>\n",
       "      <td>run_ulm</td>\n",
       "      <td>Univariate Linear Model (ULM).</td>\n",
       "    </tr>\n",
       "    <tr>\n",
       "      <th>9</th>\n",
       "      <td>run_viper</td>\n",
       "      <td>Virtual Inference of Protein-activity by Enric...</td>\n",
       "    </tr>\n",
       "    <tr>\n",
       "      <th>10</th>\n",
       "      <td>run_wmean</td>\n",
       "      <td>Weighted mean (WMEAN).</td>\n",
       "    </tr>\n",
       "    <tr>\n",
       "      <th>11</th>\n",
       "      <td>run_wsum</td>\n",
       "      <td>Weighted sum (WSUM).</td>\n",
       "    </tr>\n",
       "  </tbody>\n",
       "</table>\n",
       "</div>"
      ],
      "text/plain": [
       "         Function                                               Name\n",
       "0      run_aucell                                            AUCell.\n",
       "1   run_consensus                  Consensus score from top methods.\n",
       "2        run_gsea               Gene Set Enrichment Analysis (GSEA).\n",
       "3        run_gsva                Gene Set Variation Analysis (GSVA).\n",
       "4         run_mdt                  Multivariate Decision Tree (MDT).\n",
       "5         run_mlm                   Multivariate Linear Model (MLM).\n",
       "6         run_ora                Over Representation Analysis (ORA).\n",
       "7         run_udt                    Univariate Decision Tree (UDT).\n",
       "8         run_ulm                     Univariate Linear Model (ULM).\n",
       "9       run_viper  Virtual Inference of Protein-activity by Enric...\n",
       "10      run_wmean                             Weighted mean (WMEAN).\n",
       "11       run_wsum                               Weighted sum (WSUM)."
      ]
     },
     "execution_count": 12,
     "metadata": {},
     "output_type": "execute_result"
    }
   ],
   "source": [
    "dc.show_methods()"
   ]
  },
  {
   "cell_type": "markdown",
   "id": "f64f1bdc",
   "metadata": {},
   "source": [
    "Each method models biological activities in a different manner, sometimes returning more than one estimate or providing significance of the estimation. To know what each method returns, please check their documentation like this `?run_mlm`."
   ]
  },
  {
   "cell_type": "markdown",
   "id": "590e371b",
   "metadata": {},
   "source": [
    "To have a unified framework, methods inside `decoupler` have these shared arguments:\n",
    "\n",
    "* `mat` : input matrix of molecular readouts.\n",
    "* `net` : input prior knowledge information relating molecular features to biological entities.\n",
    "* `source`,`target` and `weight` : column names where to extract the information from `net`. \n",
    "    * `source` refers to the biological entities.\n",
    "    * `target` refers to the molecular features.\n",
    "    * `weight` refers to the \"strength\" of the interaction (if available, else 1s will be used). Only available for methods that can model interaction weights.\n",
    "* `min_n` : Minimum of target features per biological entity (5 by default). If less, sources are removed. This filtering prevents obtaining noisy activities from biological entities with very few matching target features in `mat`. For this example data-set we will have to keep it to 0 though.\n",
    "* `verbose` : Whether to show progress.\n",
    "* `use_raw` : When the input is an `AnnData` object, whether to use the data stored in it's `.raw` atribute or not (`True` by default)."
   ]
  },
  {
   "cell_type": "markdown",
   "id": "0f2cb87d-d0a8-442a-b35f-abc29b87cb5d",
   "metadata": {},
   "source": [
    "各手法は異なる方法で生物学的活動をモデル化し、時には複数の推定値を返したり、推定値の有意性を示したりする。各メソッドが何を返すかを知るには、このようなドキュメントをチェックしてほしい。\n",
    "\n",
    "統一されたフレームワークを持つために、decouplerの中のメソッドは以下の引数を共有している：\n",
    "\n",
    "* mat : 分子の読み取り値の入力行列。\n",
    "* net : 分子の特徴と生物学的実体を関連付ける事前知識情報の入力。\n",
    "* source、target、weight : netから情報を抽出する列名。\n",
    "    * sourceは生物学的実体を指す。\n",
    "    * targetは分子の特徴を指す。\n",
    "    * weightは相互作用の強さを示す（利用可能な場合、それ以外は1が使用される）。相互作用の重みをモデル化できるメソッドでのみ利用可能。\n",
    "* min_n : 生物学的実体ごとのtarget featuresの最小値（デフォルトは5）。それ以下の場合、ソースは削除される。このフィルタリングにより、matに一致するターゲット特徴がほとんどない生物学的実体から、ノイズの多いアクティビティが得られるのを防ぐことができる。このサンプルのデータセットでは、0にしておく必要がある。\n",
    "* verbose : 進捗を表示するかどうか。\n",
    "* use_raw : 入力が AnnData オブジェクトの場合、.raw 属性に格納されているデータを使用するかどうか（デフォルトは True）。"
   ]
  },
  {
   "cell_type": "markdown",
   "id": "0f85f343",
   "metadata": {},
   "source": [
    "## Running methods\n",
    "\n",
    "### Individual methods\n",
    "\n",
    "As an example, let's first run the Gene Set Enrichment Analysis method (`gsea`), one of the most well-known statistics:"
   ]
  },
  {
   "cell_type": "markdown",
   "id": "d36a1ac0-4717-4c78-a207-38639b146db0",
   "metadata": {},
   "source": [
    "例として、最もよく知られた統計の一つである遺伝子セット濃縮解析法（gsea）をまず実行してみよう："
   ]
  },
  {
   "cell_type": "code",
   "execution_count": 13,
   "id": "16e359a3-7804-44ef-b51a-94282918be61",
   "metadata": {},
   "outputs": [],
   "source": [
    "# For this toy data, we need to set min_n to 0 (otherwise it is better to keep at 5):\n",
    "acts, norm_acts, pvals = dc.run_gsea(mat, net, min_n=0, times=100)"
   ]
  },
  {
   "cell_type": "code",
   "execution_count": 14,
   "id": "75ccd460",
   "metadata": {},
   "outputs": [
    {
     "data": {
      "text/html": [
       "<div>\n",
       "<style scoped>\n",
       "    .dataframe tbody tr th:only-of-type {\n",
       "        vertical-align: middle;\n",
       "    }\n",
       "\n",
       "    .dataframe tbody tr th {\n",
       "        vertical-align: top;\n",
       "    }\n",
       "\n",
       "    .dataframe thead th {\n",
       "        text-align: right;\n",
       "    }\n",
       "</style>\n",
       "<table border=\"1\" class=\"dataframe\">\n",
       "  <thead>\n",
       "    <tr style=\"text-align: right;\">\n",
       "      <th>source</th>\n",
       "      <th>T1</th>\n",
       "      <th>T2</th>\n",
       "      <th>T3</th>\n",
       "      <th>T4</th>\n",
       "      <th>T5</th>\n",
       "    </tr>\n",
       "  </thead>\n",
       "  <tbody>\n",
       "    <tr>\n",
       "      <th>S01</th>\n",
       "      <td>0.888889</td>\n",
       "      <td>0.711597</td>\n",
       "      <td>-0.555556</td>\n",
       "      <td>-0.50</td>\n",
       "      <td>-0.666667</td>\n",
       "    </tr>\n",
       "    <tr>\n",
       "      <th>S02</th>\n",
       "      <td>0.888889</td>\n",
       "      <td>0.699385</td>\n",
       "      <td>-0.555556</td>\n",
       "      <td>-0.50</td>\n",
       "      <td>-0.444444</td>\n",
       "    </tr>\n",
       "    <tr>\n",
       "      <th>S03</th>\n",
       "      <td>0.888889</td>\n",
       "      <td>0.551198</td>\n",
       "      <td>-0.444444</td>\n",
       "      <td>-0.75</td>\n",
       "      <td>-0.666667</td>\n",
       "    </tr>\n",
       "    <tr>\n",
       "      <th>S04</th>\n",
       "      <td>0.888889</td>\n",
       "      <td>0.607223</td>\n",
       "      <td>-0.666667</td>\n",
       "      <td>-0.50</td>\n",
       "      <td>-0.444444</td>\n",
       "    </tr>\n",
       "    <tr>\n",
       "      <th>S05</th>\n",
       "      <td>0.888889</td>\n",
       "      <td>0.732963</td>\n",
       "      <td>-0.888889</td>\n",
       "      <td>-0.50</td>\n",
       "      <td>-0.444444</td>\n",
       "    </tr>\n",
       "  </tbody>\n",
       "</table>\n",
       "</div>"
      ],
      "text/plain": [
       "source        T1        T2        T3    T4        T5\n",
       "S01     0.888889  0.711597 -0.555556 -0.50 -0.666667\n",
       "S02     0.888889  0.699385 -0.555556 -0.50 -0.444444\n",
       "S03     0.888889  0.551198 -0.444444 -0.75 -0.666667\n",
       "S04     0.888889  0.607223 -0.666667 -0.50 -0.444444\n",
       "S05     0.888889  0.732963 -0.888889 -0.50 -0.444444"
      ]
     },
     "execution_count": 14,
     "metadata": {},
     "output_type": "execute_result"
    }
   ],
   "source": [
    "acts.head()"
   ]
  },
  {
   "cell_type": "code",
   "execution_count": 17,
   "id": "d315e847-6d80-4631-a131-f32de07762df",
   "metadata": {},
   "outputs": [
    {
     "data": {
      "text/html": [
       "<div>\n",
       "<style scoped>\n",
       "    .dataframe tbody tr th:only-of-type {\n",
       "        vertical-align: middle;\n",
       "    }\n",
       "\n",
       "    .dataframe tbody tr th {\n",
       "        vertical-align: top;\n",
       "    }\n",
       "\n",
       "    .dataframe thead th {\n",
       "        text-align: right;\n",
       "    }\n",
       "</style>\n",
       "<table border=\"1\" class=\"dataframe\">\n",
       "  <thead>\n",
       "    <tr style=\"text-align: right;\">\n",
       "      <th>source</th>\n",
       "      <th>T1</th>\n",
       "      <th>T2</th>\n",
       "      <th>T3</th>\n",
       "      <th>T4</th>\n",
       "      <th>T5</th>\n",
       "    </tr>\n",
       "  </thead>\n",
       "  <tbody>\n",
       "    <tr>\n",
       "      <th>S01</th>\n",
       "      <td>1.234678</td>\n",
       "      <td>1.011988</td>\n",
       "      <td>-1.018518</td>\n",
       "      <td>-0.825397</td>\n",
       "      <td>-1.096154</td>\n",
       "    </tr>\n",
       "    <tr>\n",
       "      <th>S02</th>\n",
       "      <td>1.202222</td>\n",
       "      <td>0.929855</td>\n",
       "      <td>-0.967742</td>\n",
       "      <td>-0.780488</td>\n",
       "      <td>-0.732824</td>\n",
       "    </tr>\n",
       "    <tr>\n",
       "      <th>S03</th>\n",
       "      <td>1.216594</td>\n",
       "      <td>0.776507</td>\n",
       "      <td>-0.711656</td>\n",
       "      <td>-1.200000</td>\n",
       "      <td>-1.086207</td>\n",
       "    </tr>\n",
       "    <tr>\n",
       "      <th>S04</th>\n",
       "      <td>1.157576</td>\n",
       "      <td>0.820708</td>\n",
       "      <td>-1.100000</td>\n",
       "      <td>-0.800000</td>\n",
       "      <td>-0.759124</td>\n",
       "    </tr>\n",
       "    <tr>\n",
       "      <th>S05</th>\n",
       "      <td>1.254691</td>\n",
       "      <td>1.049219</td>\n",
       "      <td>-1.518248</td>\n",
       "      <td>-0.876712</td>\n",
       "      <td>-0.724409</td>\n",
       "    </tr>\n",
       "  </tbody>\n",
       "</table>\n",
       "</div>"
      ],
      "text/plain": [
       "source        T1        T2        T3        T4        T5\n",
       "S01     1.234678  1.011988 -1.018518 -0.825397 -1.096154\n",
       "S02     1.202222  0.929855 -0.967742 -0.780488 -0.732824\n",
       "S03     1.216594  0.776507 -0.711656 -1.200000 -1.086207\n",
       "S04     1.157576  0.820708 -1.100000 -0.800000 -0.759124\n",
       "S05     1.254691  1.049219 -1.518248 -0.876712 -0.724409"
      ]
     },
     "execution_count": 17,
     "metadata": {},
     "output_type": "execute_result"
    }
   ],
   "source": [
    "norm_acts.head()"
   ]
  },
  {
   "cell_type": "code",
   "execution_count": 18,
   "id": "e2a50fea-4f4d-42ad-a991-017b5fe437fa",
   "metadata": {},
   "outputs": [
    {
     "data": {
      "text/html": [
       "<div>\n",
       "<style scoped>\n",
       "    .dataframe tbody tr th:only-of-type {\n",
       "        vertical-align: middle;\n",
       "    }\n",
       "\n",
       "    .dataframe tbody tr th {\n",
       "        vertical-align: top;\n",
       "    }\n",
       "\n",
       "    .dataframe thead th {\n",
       "        text-align: right;\n",
       "    }\n",
       "</style>\n",
       "<table border=\"1\" class=\"dataframe\">\n",
       "  <thead>\n",
       "    <tr style=\"text-align: right;\">\n",
       "      <th>source</th>\n",
       "      <th>T1</th>\n",
       "      <th>T2</th>\n",
       "      <th>T3</th>\n",
       "      <th>T4</th>\n",
       "      <th>T5</th>\n",
       "    </tr>\n",
       "  </thead>\n",
       "  <tbody>\n",
       "    <tr>\n",
       "      <th>S01</th>\n",
       "      <td>0.144737</td>\n",
       "      <td>0.426966</td>\n",
       "      <td>0.454545</td>\n",
       "      <td>1.000000</td>\n",
       "      <td>0.421053</td>\n",
       "    </tr>\n",
       "    <tr>\n",
       "      <th>S02</th>\n",
       "      <td>0.144737</td>\n",
       "      <td>0.717647</td>\n",
       "      <td>0.666667</td>\n",
       "      <td>1.000000</td>\n",
       "      <td>1.000000</td>\n",
       "    </tr>\n",
       "    <tr>\n",
       "      <th>S03</th>\n",
       "      <td>0.062500</td>\n",
       "      <td>0.850000</td>\n",
       "      <td>1.000000</td>\n",
       "      <td>0.272727</td>\n",
       "      <td>0.380952</td>\n",
       "    </tr>\n",
       "    <tr>\n",
       "      <th>S04</th>\n",
       "      <td>0.125000</td>\n",
       "      <td>0.873563</td>\n",
       "      <td>0.363636</td>\n",
       "      <td>1.000000</td>\n",
       "      <td>1.000000</td>\n",
       "    </tr>\n",
       "    <tr>\n",
       "      <th>S05</th>\n",
       "      <td>0.120000</td>\n",
       "      <td>0.360465</td>\n",
       "      <td>0.076923</td>\n",
       "      <td>0.875000</td>\n",
       "      <td>1.000000</td>\n",
       "    </tr>\n",
       "  </tbody>\n",
       "</table>\n",
       "</div>"
      ],
      "text/plain": [
       "source        T1        T2        T3        T4        T5\n",
       "S01     0.144737  0.426966  0.454545  1.000000  0.421053\n",
       "S02     0.144737  0.717647  0.666667  1.000000  1.000000\n",
       "S03     0.062500  0.850000  1.000000  0.272727  0.380952\n",
       "S04     0.125000  0.873563  0.363636  1.000000  1.000000\n",
       "S05     0.120000  0.360465  0.076923  0.875000  1.000000"
      ]
     },
     "execution_count": 18,
     "metadata": {},
     "output_type": "execute_result"
    }
   ],
   "source": [
    "pvals.head()"
   ]
  },
  {
   "cell_type": "markdown",
   "id": "ffc2fd1f",
   "metadata": {},
   "source": [
    "In the case of `gsea`, it returns a simple estimate of activities (`acts`), a normalised estimate (`norm_acts`) and `pvals` data-frames after doing permutations."
   ]
  },
  {
   "cell_type": "markdown",
   "id": "4f11b1d4",
   "metadata": {},
   "source": [
    "Let us plot the obtained results:"
   ]
  },
  {
   "cell_type": "markdown",
   "id": "93a3ecb6-3c42-4d41-b990-1e607c74e18f",
   "metadata": {},
   "source": [
    "gseaの場合、単純なアクティビティ推定値（acts）、正規化推定値（norm_acts）、並べ替え後のpvalsデータフレームを返す。\n",
    "\n",
    "得られた結果をプロットしてみよう："
   ]
  },
  {
   "cell_type": "code",
   "execution_count": 15,
   "id": "dd2b1fb4",
   "metadata": {},
   "outputs": [
    {
     "data": {
      "image/png": "[encoded data removed]",
      "text/plain": [
       "<Figure size 900x300 with 6 Axes>"
      ]
     },
     "metadata": {},
     "output_type": "display_data"
    }
   ],
   "source": [
    "fig, axes = plt.subplots(\n",
    "    1, 3, figsize=(9, 3), tight_layout=True, sharey=True\n",
    ")\n",
    "\n",
    "axes[0].set_title('acts')\n",
    "sns.heatmap(acts, cmap='coolwarm', vmin=-1, vmax=1, ax=axes[0])\n",
    "\n",
    "axes[1].set_title('norm_acts')\n",
    "sns.heatmap(norm_acts, cmap='coolwarm', vmin=-1, vmax=1, ax=axes[1])\n",
    "\n",
    "axes[2].set_title('pvals')\n",
    "sns.heatmap(pvals, cmap='viridis_r', ax=axes[2], vmax=1)\n",
    "\n",
    "plt.show()"
   ]
  },
  {
   "cell_type": "markdown",
   "id": "c476bc3a",
   "metadata": {},
   "source": [
    "We can observe that for transcription factors T1 and T3, the obtained activities correctly distinguish the two sample populations. T2, on the other hand, should be down for the second population of samples since it is a repressor. This mislabeling of activities happens because `gsea` cannot model weights when inferring biological activities.\n",
    "\n",
    "When weights are available in the prior knowledge, we definitely recommend using any of the methods that take them into account to get better estimates, one example is the Univariate Linear Model method `ulm`:"
   ]
  },
  {
   "cell_type": "markdown",
   "id": "3f04ceb7-c163-4c88-abbc-4bb0d9177ff7",
   "metadata": {},
   "source": [
    "転写因子T1とT3については、得られた活性が2つのサンプル集団を正しく区別していることが観察できる。一方、T2は抑制因子であるため、2つ目のサンプル集団では減少しているはずである。gseaは生物学的活性を推論する際に重みをモデル化することができないため、このような誤ったラベル付けが起こります。\n",
    "\n",
    "事前知識で重みが利用可能な場合、より良い推定値を得るために、重みを考慮した方法を使用することをお勧めします："
   ]
  },
  {
   "cell_type": "code",
   "execution_count": 19,
   "id": "20525e79",
   "metadata": {},
   "outputs": [],
   "source": [
    "# For this toy data, we need to set min_n to 0 (otherwise it is better to keep at 5):\n",
    "acts, pvals = dc.run_ulm(mat, net, min_n=0)"
   ]
  },
  {
   "cell_type": "code",
   "execution_count": 20,
   "id": "6ccd2a9a-60f6-4e08-a9f4-3c1f53571b3b",
   "metadata": {},
   "outputs": [
    {
     "data": {
      "text/html": [
       "<div>\n",
       "<style scoped>\n",
       "    .dataframe tbody tr th:only-of-type {\n",
       "        vertical-align: middle;\n",
       "    }\n",
       "\n",
       "    .dataframe tbody tr th {\n",
       "        vertical-align: top;\n",
       "    }\n",
       "\n",
       "    .dataframe thead th {\n",
       "        text-align: right;\n",
       "    }\n",
       "</style>\n",
       "<table border=\"1\" class=\"dataframe\">\n",
       "  <thead>\n",
       "    <tr style=\"text-align: right;\">\n",
       "      <th></th>\n",
       "      <th>T1</th>\n",
       "      <th>T2</th>\n",
       "      <th>T3</th>\n",
       "      <th>T4</th>\n",
       "      <th>T5</th>\n",
       "    </tr>\n",
       "  </thead>\n",
       "  <tbody>\n",
       "    <tr>\n",
       "      <th>S01</th>\n",
       "      <td>4.020366</td>\n",
       "      <td>1.667426</td>\n",
       "      <td>-1.378734</td>\n",
       "      <td>-0.243605</td>\n",
       "      <td>-1.188727</td>\n",
       "    </tr>\n",
       "    <tr>\n",
       "      <th>S02</th>\n",
       "      <td>4.060297</td>\n",
       "      <td>1.392356</td>\n",
       "      <td>-1.313069</td>\n",
       "      <td>-0.387175</td>\n",
       "      <td>-1.102454</td>\n",
       "    </tr>\n",
       "    <tr>\n",
       "      <th>S03</th>\n",
       "      <td>4.189780</td>\n",
       "      <td>1.086979</td>\n",
       "      <td>-1.346471</td>\n",
       "      <td>-0.294281</td>\n",
       "      <td>-1.139018</td>\n",
       "    </tr>\n",
       "    <tr>\n",
       "      <th>S04</th>\n",
       "      <td>4.149536</td>\n",
       "      <td>1.395950</td>\n",
       "      <td>-1.332407</td>\n",
       "      <td>-0.273508</td>\n",
       "      <td>-1.197696</td>\n",
       "    </tr>\n",
       "    <tr>\n",
       "      <th>S05</th>\n",
       "      <td>4.052075</td>\n",
       "      <td>1.610522</td>\n",
       "      <td>-1.534533</td>\n",
       "      <td>-0.311155</td>\n",
       "      <td>-0.990895</td>\n",
       "    </tr>\n",
       "  </tbody>\n",
       "</table>\n",
       "</div>"
      ],
      "text/plain": [
       "           T1        T2        T3        T4        T5\n",
       "S01  4.020366  1.667426 -1.378734 -0.243605 -1.188727\n",
       "S02  4.060297  1.392356 -1.313069 -0.387175 -1.102454\n",
       "S03  4.189780  1.086979 -1.346471 -0.294281 -1.139018\n",
       "S04  4.149536  1.395950 -1.332407 -0.273508 -1.197696\n",
       "S05  4.052075  1.610522 -1.534533 -0.311155 -0.990895"
      ]
     },
     "execution_count": 20,
     "metadata": {},
     "output_type": "execute_result"
    }
   ],
   "source": [
    "acts.head()"
   ]
  },
  {
   "cell_type": "code",
   "execution_count": 21,
   "id": "838477e6-fe0d-43fe-9a52-73f2c03925a3",
   "metadata": {},
   "outputs": [
    {
     "data": {
      "text/html": [
       "<div>\n",
       "<style scoped>\n",
       "    .dataframe tbody tr th:only-of-type {\n",
       "        vertical-align: middle;\n",
       "    }\n",
       "\n",
       "    .dataframe tbody tr th {\n",
       "        vertical-align: top;\n",
       "    }\n",
       "\n",
       "    .dataframe thead th {\n",
       "        text-align: right;\n",
       "    }\n",
       "</style>\n",
       "<table border=\"1\" class=\"dataframe\">\n",
       "  <thead>\n",
       "    <tr style=\"text-align: right;\">\n",
       "      <th></th>\n",
       "      <th>T1</th>\n",
       "      <th>T2</th>\n",
       "      <th>T3</th>\n",
       "      <th>T4</th>\n",
       "      <th>T5</th>\n",
       "    </tr>\n",
       "  </thead>\n",
       "  <tbody>\n",
       "    <tr>\n",
       "      <th>S01</th>\n",
       "      <td>0.002437</td>\n",
       "      <td>0.126394</td>\n",
       "      <td>0.198034</td>\n",
       "      <td>0.812462</td>\n",
       "      <td>0.262009</td>\n",
       "    </tr>\n",
       "    <tr>\n",
       "      <th>S02</th>\n",
       "      <td>0.002285</td>\n",
       "      <td>0.193999</td>\n",
       "      <td>0.218491</td>\n",
       "      <td>0.706739</td>\n",
       "      <td>0.296089</td>\n",
       "    </tr>\n",
       "    <tr>\n",
       "      <th>S03</th>\n",
       "      <td>0.001859</td>\n",
       "      <td>0.302552</td>\n",
       "      <td>0.207875</td>\n",
       "      <td>0.774561</td>\n",
       "      <td>0.281246</td>\n",
       "    </tr>\n",
       "    <tr>\n",
       "      <th>S04</th>\n",
       "      <td>0.001981</td>\n",
       "      <td>0.192946</td>\n",
       "      <td>0.212291</td>\n",
       "      <td>0.790029</td>\n",
       "      <td>0.258653</td>\n",
       "    </tr>\n",
       "    <tr>\n",
       "      <th>S05</th>\n",
       "      <td>0.002316</td>\n",
       "      <td>0.138361</td>\n",
       "      <td>0.155908</td>\n",
       "      <td>0.762072</td>\n",
       "      <td>0.345107</td>\n",
       "    </tr>\n",
       "  </tbody>\n",
       "</table>\n",
       "</div>"
      ],
      "text/plain": [
       "           T1        T2        T3        T4        T5\n",
       "S01  0.002437  0.126394  0.198034  0.812462  0.262009\n",
       "S02  0.002285  0.193999  0.218491  0.706739  0.296089\n",
       "S03  0.001859  0.302552  0.207875  0.774561  0.281246\n",
       "S04  0.001981  0.192946  0.212291  0.790029  0.258653\n",
       "S05  0.002316  0.138361  0.155908  0.762072  0.345107"
      ]
     },
     "execution_count": 21,
     "metadata": {},
     "output_type": "execute_result"
    }
   ],
   "source": [
    "pvals.head()"
   ]
  },
  {
   "cell_type": "markdown",
   "id": "5ecc8fe7",
   "metadata": {},
   "source": [
    "In this case, `ulm` only returns infered activities and their associated p-value.\n",
    "\n",
    "As before, let us plot the resulting activities:"
   ]
  },
  {
   "cell_type": "markdown",
   "id": "eef00af4-a297-471e-9319-dbda3d394f67",
   "metadata": {},
   "source": [
    "この場合、ulmは推論されたアクティビティと関連するp値のみを返す。\n",
    "\n",
    "前回と同様に、結果のアクティビティをプロットしてみよう："
   ]
  },
  {
   "cell_type": "code",
   "execution_count": 22,
   "id": "9c61d04b",
   "metadata": {},
   "outputs": [
    {
     "data": {
      "image/png": "[encoded data removed]",
      "text/plain": [
       "<Figure size 600x300 with 4 Axes>"
      ]
     },
     "metadata": {},
     "output_type": "display_data"
    }
   ],
   "source": [
    "fig, axes = plt.subplots(1,2, figsize=(6,3), tight_layout=True, sharey=True)\n",
    "\n",
    "axes[0].set_title('acts')\n",
    "sns.heatmap(acts, cmap='coolwarm', vmin=-1, vmax=1, ax=axes[0])\n",
    "\n",
    "axes[1].set_title('pvals')\n",
    "sns.heatmap(pvals, cmap='viridis_r', ax=axes[1], vmax=1)\n",
    "\n",
    "plt.show()"
   ]
  },
  {
   "cell_type": "markdown",
   "id": "4c21c032",
   "metadata": {},
   "source": [
    "Since `ulm` models weights when estimating biological activities, it correctly assigns T2 as inactive in the second population of samples."
   ]
  },
  {
   "cell_type": "markdown",
   "id": "fa90204c-da8a-447c-8b0d-4162ed9aa69c",
   "metadata": {},
   "source": [
    "ulmは生物学的活性を推定する際に重みをモデル化するため、2番目のサンプルの母集団ではT2を不活性と正しく割り当てている。"
   ]
  },
  {
   "cell_type": "markdown",
   "id": "7e00a68b",
   "metadata": {},
   "source": [
    "### Multiple methods\n",
    "\n",
    "`decoupler` also allows to run multiple methods at the same time. Moreover, it computes a consensus score based on the obtained activities across methods, called `consensus`.\n",
    "\n",
    "By default, `decouple` runs only the top performer methods in our benchmark (`mlm`, `ulm` and `wsum`), and estimates a consensus score across them. Specific arguments to specific methods can be passed using the variable `args`. For more information check `?decouple`. If we wanted to only obtain the consensus score, we could also have used `run_consensus`, check `?run_consensus` for more information."
   ]
  },
  {
   "cell_type": "markdown",
   "id": "335ba5ad-a392-49dd-8560-0a350472f2f4",
   "metadata": {},
   "source": [
    "decouplerは、複数のメソッドを同時に実行することもできる。さらに、コンセンサスと呼ばれる、手法間で得られたアクティビティに基づくコンセンサススコアを計算する。\n",
    "\n",
    "デフォルトでは、decoupleはベンチマークのトップパフォーマーのメソッド（mlm、ulm、wsum）のみを実行し、それら全体のコンセンサススコアを推定する。特定のメソッドへの引数は、変数 args を使って渡すことができる。詳細は ?decouple を参照。コンセンサススコアだけを取得したい場合は、run_consensusを使うこともできます。"
   ]
  },
  {
   "cell_type": "code",
   "execution_count": 23,
   "id": "e3825926",
   "metadata": {},
   "outputs": [],
   "source": [
    "# For this toy data, we need to set min_n to 0 (otherwise it is better to keep at 5):\n",
    "results = dc.decouple(mat, net, min_n=0, verbose=False)"
   ]
  },
  {
   "cell_type": "code",
   "execution_count": 30,
   "id": "93566d48-d844-4b31-8659-81c491811b57",
   "metadata": {},
   "outputs": [
    {
     "data": {
      "text/plain": [
       "dict_keys(['mlm_estimate', 'mlm_pvals', 'ulm_estimate', 'ulm_pvals', 'wsum_estimate', 'wsum_norm', 'wsum_corr', 'wsum_pvals', 'consensus_estimate', 'consensus_pvals'])"
      ]
     },
     "execution_count": 30,
     "metadata": {},
     "output_type": "execute_result"
    }
   ],
   "source": [
    "results.keys()"
   ]
  },
  {
   "cell_type": "markdown",
   "id": "0fb3db1b",
   "metadata": {},
   "source": [
    "`decouple` either returns a dictionary of activities and p-values, or stores them in the `AnnData` instance provided. \n",
    "\n",
    "Let us see how the consensus score looks like:"
   ]
  },
  {
   "cell_type": "markdown",
   "id": "70fe4af7-8e72-45f4-b160-b38c91ade345",
   "metadata": {},
   "source": [
    "decoupleは、アクティビティとp値の辞書を返すか、提供されたAnnDataインスタンスに格納します。\n",
    "\n",
    "コンセンサス・スコアがどのように見えるか見てみよう："
   ]
  },
  {
   "cell_type": "code",
   "execution_count": 31,
   "id": "ddedb9dd",
   "metadata": {},
   "outputs": [],
   "source": [
    "# Extract from dictionary\n",
    "acts = results['consensus_estimate']\n",
    "pvals = results['consensus_pvals']"
   ]
  },
  {
   "cell_type": "code",
   "execution_count": 32,
   "id": "ca700b0f",
   "metadata": {},
   "outputs": [
    {
     "data": {
      "image/png": "[encoded data removed]",
      "text/plain": [
       "<Figure size 600x300 with 4 Axes>"
      ]
     },
     "metadata": {},
     "output_type": "display_data"
    }
   ],
   "source": [
    "fig, axes = plt.subplots(1,2, figsize=(6,3), tight_layout=True, sharey=True)\n",
    "\n",
    "axes[0].set_title('acts')\n",
    "sns.heatmap(acts, cmap='coolwarm', vmin=-1, vmax=1, ax=axes[0])\n",
    "\n",
    "axes[1].set_title('pvals')\n",
    "sns.heatmap(pvals, cmap='viridis_r', ax=axes[1], vmax=1)\n",
    "\n",
    "plt.show()"
   ]
  },
  {
   "cell_type": "markdown",
   "id": "65e14da3",
   "metadata": {},
   "source": [
    "We can observe that the consensus score correctly predicts that T1 and T2 should be active in the first population of samples while T3 and T4 in the second one. T5 is inactive everywhere as expected."
   ]
  },
  {
   "cell_type": "markdown",
   "id": "624a9750-25b3-4831-bb5c-b5b065203ff4",
   "metadata": {},
   "source": [
    "コンセンサス・スコアは、T1とT2が最初のサンプル集団で活性化し、T3とT4が2番目のサンプル集団で活性化することを正しく予測していることがわかる。T5は予想通りどこでも不活性である。"
   ]
  },
  {
   "cell_type": "code",
   "execution_count": null,
   "id": "85b523d4-12ce-4144-94bf-13ad809f6879",
   "metadata": {},
   "outputs": [],
   "source": []
  }
 ],
 "metadata": {
  "kernelspec": {
   "display_name": "py_scvi",
   "language": "python",
   "name": "py_scvi"
  },
  "language_info": {
   "codemirror_mode": {
    "name": "ipython",
    "version": 3
   },
   "file_extension": ".py",
   "mimetype": "text/x-python",
   "name": "python",
   "nbconvert_exporter": "python",
   "pygments_lexer": "ipython3",
   "version": "3.12.4"
  }
 },
 "nbformat": 4,
 "nbformat_minor": 5
}
