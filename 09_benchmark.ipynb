{
 "cells": [
  {
   "cell_type": "markdown",
   "id": "9be010e3",
   "metadata": {},
   "source": [
    "# Benchmarking pipeline"
   ]
  },
  {
   "cell_type": "markdown",
   "id": "88056c0f",
   "metadata": {},
   "source": [
    "Biological activities can be estimated by coupling a statistical method with a prior knowledge network. However, it is not clear which method or network performs better. When perturbation experiments are available, one can benchmark these methods by evaluating how good are they at recovering perturbed regulators. In our original `decoupler` [publication](https://doi.org/10.1093/bioadv/vbac016), we observed that `wsum`, `mlm`, `ulm` and `consensus` where the top performer methods. \n",
    "\n",
    "In this notebook we showcase how to use `decoupler` for the benchmarking of methods and prior knowledge networks. The data used here consist of single-gene perturbation experiments from the [KnockTF2](http://www.licpathway.net/KnockTFv2/index.php) database, an extensive dataset of literature curated perturbation experiments. If you use these data for your resarch, please cite the original publication of the resource:\n",
    "\n",
    ">Chenchen Feng, Chao Song, Yuejuan Liu, Fengcui Qian, Yu Gao, Ziyu Ning, Qiuyu Wang, Yong Jiang, Yanyu Li, Meng Li, Jiaxin Chen, Jian Zhang, Chunquan Li, KnockTF: a comprehensive human gene expression profile database with knockdown/knockout of transcription factors, Nucleic Acids Research, Volume 48, Issue D1, 08 January 2020, Pages D93–D100, https://doi.org/10.1093/nar/gkz881"
   ]
  },
  {
   "cell_type": "markdown",
   "id": "b1a45580-cff8-4467-aa07-ec0fbdae2008",
   "metadata": {},
   "source": [
    "生物学的活性は、統計的手法と事前知識ネットワークを組み合わせることで推定できる。しかし、どの手法やネットワークが優れているかは明らかではない。摂動実験が可能であれば、摂動された制御因子を回復させるのにどの程度優れているかを評価することで、これらの手法をベンチマークすることができる。私たちが最初に発表したdecouplerでは、wsum、mlm、ulm、consensusが上位を占めました。\n",
    "\n",
    "このノートブックでは、手法と事前知識ネットワークのベンチマークにdecouplerを使用する方法を紹介する。ここで使用したデータはKnockTF2データベースの単一遺伝子摂動実験です。これらのデータを研究に使用する場合は、そのリソースの原著を引用してください："
   ]
  },
  {
   "cell_type": "markdown",
   "id": "4a2fe17a",
   "metadata": {},
   "source": [
    "## Loading packages\n",
    "\n",
    "First, we need to load the relevant packages."
   ]
  },
  {
   "cell_type": "markdown",
   "id": "4ee66a7c-9523-44ec-bd71-7eee954faffc",
   "metadata": {},
   "source": [
    "まず、関連するパッケージをロードする必要がある。"
   ]
  },
  {
   "cell_type": "code",
   "execution_count": 1,
   "id": "5a195373-b827-4cee-848d-33b39657a36a",
   "metadata": {},
   "outputs": [],
   "source": [
    "import pandas as pd"
   ]
  },
  {
   "cell_type": "code",
   "execution_count": 2,
   "id": "f7cfc5d4-3aa7-4748-9623-94a843e3921d",
   "metadata": {},
   "outputs": [],
   "source": [
    "import numpy as np"
   ]
  },
  {
   "cell_type": "code",
   "execution_count": 3,
   "id": "1373e60c-168d-4a1e-85b4-9d742107d2eb",
   "metadata": {},
   "outputs": [],
   "source": [
    "import matplotlib.pyplot as plt"
   ]
  },
  {
   "cell_type": "code",
   "execution_count": 4,
   "id": "8c610d39",
   "metadata": {
    "tags": []
   },
   "outputs": [],
   "source": [
    "import decoupler as dc"
   ]
  },
  {
   "cell_type": "markdown",
   "id": "1552661f",
   "metadata": {},
   "source": [
    "## Loading the data\n",
    "\n",
    "We can download the data easily from Zenodo:"
   ]
  },
  {
   "cell_type": "markdown",
   "id": "e1c24c02-fe3a-4abd-b6c9-4e5ff755b766",
   "metadata": {},
   "source": [
    "データはZenodoから簡単にダウンロードできる："
   ]
  },
  {
   "cell_type": "code",
   "execution_count": 5,
   "id": "7654e58f",
   "metadata": {},
   "outputs": [
    {
     "name": "stdout",
     "output_type": "stream",
     "text": [
      "--2024-08-08 23:16:58--  https://zenodo.org/record/7035528/files/knockTF_expr.csv?download=1\n",
      "zenodo.org (zenodo.org) をDNSに問いあわせています... 188.184.98.238, 188.185.79.172, 188.184.103.159\n",
      "zenodo.org (zenodo.org)|188.184.98.238|:443 に接続しています... 接続しました。\n",
      "HTTP による接続要求を送信しました、応答を待っています... 301 MOVED PERMANENTLY\n",
      "場所: /records/7035528/files/knockTF_expr.csv [続く]\n",
      "--2024-08-08 23:17:00--  https://zenodo.org/records/7035528/files/knockTF_expr.csv\n",
      "zenodo.org:443 への接続を再利用します。\n",
      "HTTP による接続要求を送信しました、応答を待っています... 200 OK\n",
      "長さ: 146086808 (139M) [text/plain]\n",
      "`knockTF_expr.csv' に保存中\n",
      "\n",
      "knockTF_expr.csv    100%[===================>] 139.32M  2.98MB/s 時間 50s        \n",
      "\n",
      "2024-08-08 23:17:50 (2.81 MB/s) - `knockTF_expr.csv' へ保存完了 [146086808/146086808]\n",
      "\n",
      "--2024-08-08 23:17:51--  https://zenodo.org/record/7035528/files/knockTF_meta.csv?download=1\n",
      "zenodo.org (zenodo.org) をDNSに問いあわせています... 188.185.79.172, 188.184.103.159, 188.184.98.238\n",
      "zenodo.org (zenodo.org)|188.185.79.172|:443 に接続しています... 接続しました。\n",
      "HTTP による接続要求を送信しました、応答を待っています... 301 MOVED PERMANENTLY\n",
      "場所: /records/7035528/files/knockTF_meta.csv [続く]\n",
      "--2024-08-08 23:17:52--  https://zenodo.org/records/7035528/files/knockTF_meta.csv\n",
      "zenodo.org:443 への接続を再利用します。\n",
      "HTTP による接続要求を送信しました、応答を待っています... 200 OK\n",
      "長さ: 144861 (141K) [text/plain]\n",
      "`knockTF_meta.csv' に保存中\n",
      "\n",
      "knockTF_meta.csv    100%[===================>] 141.47K   148KB/s 時間 1.0s       \n",
      "\n",
      "2024-08-08 23:17:54 (148 KB/s) - `knockTF_meta.csv' へ保存完了 [144861/144861]\n",
      "\n"
     ]
    }
   ],
   "source": [
    "!wget 'https://zenodo.org/record/7035528/files/knockTF_expr.csv?download=1' -O knockTF_expr.csv\n",
    "!wget 'https://zenodo.org/record/7035528/files/knockTF_meta.csv?download=1' -O knockTF_meta.csv"
   ]
  },
  {
   "cell_type": "markdown",
   "id": "d2e11366",
   "metadata": {},
   "source": [
    "We can then read it using `pandas`:"
   ]
  },
  {
   "cell_type": "markdown",
   "id": "d0d814b6-1bae-49f7-b114-cc567dfb43b4",
   "metadata": {},
   "source": [
    "そしてpandasを使ってそれを読むことができる："
   ]
  },
  {
   "cell_type": "code",
   "execution_count": 6,
   "id": "25c778f4",
   "metadata": {
    "tags": []
   },
   "outputs": [],
   "source": [
    "# Read data\n",
    "mat = pd.read_csv('knockTF_expr.csv', index_col=0)\n",
    "obs = pd.read_csv('knockTF_meta.csv', index_col=0)"
   ]
  },
  {
   "cell_type": "markdown",
   "id": "70634b2b",
   "metadata": {},
   "source": [
    "`mat` consist of a matrix of logFCs between the perturbed and the control samples. Positive values mean that these genes were\n",
    "overexpressed after the perturbation, negative values mean the opposite."
   ]
  },
  {
   "cell_type": "markdown",
   "id": "84812ca3-2465-499a-861a-6d10bcd04982",
   "metadata": {},
   "source": [
    "matは、摂動サンプルとコントロールサンプルの間のlogFCのマトリックスからなる。正の値は、これらの遺伝子が摂動後に過剰発現したことを意味し、負の値はその逆を意味する。"
   ]
  },
  {
   "cell_type": "code",
   "execution_count": 7,
   "id": "8fc3a459",
   "metadata": {
    "tags": []
   },
   "outputs": [
    {
     "data": {
      "text/html": [
       "<div>\n",
       "<style scoped>\n",
       "    .dataframe tbody tr th:only-of-type {\n",
       "        vertical-align: middle;\n",
       "    }\n",
       "\n",
       "    .dataframe tbody tr th {\n",
       "        vertical-align: top;\n",
       "    }\n",
       "\n",
       "    .dataframe thead th {\n",
       "        text-align: right;\n",
       "    }\n",
       "</style>\n",
       "<table border=\"1\" class=\"dataframe\">\n",
       "  <thead>\n",
       "    <tr style=\"text-align: right;\">\n",
       "      <th></th>\n",
       "      <th>A1BG</th>\n",
       "      <th>A1BG-AS1</th>\n",
       "      <th>A1CF</th>\n",
       "      <th>A2LD1</th>\n",
       "      <th>A2M</th>\n",
       "      <th>A2ML1</th>\n",
       "      <th>A4GALT</th>\n",
       "      <th>A4GNT</th>\n",
       "      <th>AA06</th>\n",
       "      <th>AAA1</th>\n",
       "      <th>...</th>\n",
       "      <th>ZWINT</th>\n",
       "      <th>ZXDA</th>\n",
       "      <th>ZXDB</th>\n",
       "      <th>ZXDC</th>\n",
       "      <th>ZYG11A</th>\n",
       "      <th>ZYG11B</th>\n",
       "      <th>ZYX</th>\n",
       "      <th>ZZEF1</th>\n",
       "      <th>ZZZ3</th>\n",
       "      <th>psiTPTE22</th>\n",
       "    </tr>\n",
       "  </thead>\n",
       "  <tbody>\n",
       "    <tr>\n",
       "      <th>DataSet_01_001</th>\n",
       "      <td>0.00000</td>\n",
       "      <td>0.00000</td>\n",
       "      <td>0.00000</td>\n",
       "      <td>0.0000</td>\n",
       "      <td>0.00000</td>\n",
       "      <td>0.00000</td>\n",
       "      <td>0.00000</td>\n",
       "      <td>0.00000</td>\n",
       "      <td>0.0</td>\n",
       "      <td>0.0</td>\n",
       "      <td>...</td>\n",
       "      <td>0.0</td>\n",
       "      <td>0.00000</td>\n",
       "      <td>0.0</td>\n",
       "      <td>0.00000</td>\n",
       "      <td>0.00000</td>\n",
       "      <td>0.00000</td>\n",
       "      <td>-0.03322</td>\n",
       "      <td>-0.04690</td>\n",
       "      <td>-0.14383</td>\n",
       "      <td>0.00000</td>\n",
       "    </tr>\n",
       "    <tr>\n",
       "      <th>DataSet_01_002</th>\n",
       "      <td>-0.17375</td>\n",
       "      <td>0.00000</td>\n",
       "      <td>-0.53779</td>\n",
       "      <td>-0.4424</td>\n",
       "      <td>-1.59664</td>\n",
       "      <td>-0.00010</td>\n",
       "      <td>-0.08260</td>\n",
       "      <td>-3.64590</td>\n",
       "      <td>0.0</td>\n",
       "      <td>0.0</td>\n",
       "      <td>...</td>\n",
       "      <td>0.0</td>\n",
       "      <td>0.39579</td>\n",
       "      <td>0.0</td>\n",
       "      <td>0.08611</td>\n",
       "      <td>0.28574</td>\n",
       "      <td>-0.13021</td>\n",
       "      <td>-0.27664</td>\n",
       "      <td>-0.88158</td>\n",
       "      <td>0.81295</td>\n",
       "      <td>0.47896</td>\n",
       "    </tr>\n",
       "    <tr>\n",
       "      <th>DataSet_01_003</th>\n",
       "      <td>-0.21613</td>\n",
       "      <td>0.00000</td>\n",
       "      <td>-0.22027</td>\n",
       "      <td>-0.0008</td>\n",
       "      <td>0.00000</td>\n",
       "      <td>0.15580</td>\n",
       "      <td>-0.35802</td>\n",
       "      <td>-0.32025</td>\n",
       "      <td>0.0</td>\n",
       "      <td>0.0</td>\n",
       "      <td>...</td>\n",
       "      <td>0.0</td>\n",
       "      <td>-0.82964</td>\n",
       "      <td>0.0</td>\n",
       "      <td>0.06447</td>\n",
       "      <td>0.59323</td>\n",
       "      <td>0.31395</td>\n",
       "      <td>-0.23260</td>\n",
       "      <td>0.06551</td>\n",
       "      <td>-0.14714</td>\n",
       "      <td>0.00000</td>\n",
       "    </tr>\n",
       "    <tr>\n",
       "      <th>DataSet_01_004</th>\n",
       "      <td>-0.25568</td>\n",
       "      <td>0.11105</td>\n",
       "      <td>-0.28527</td>\n",
       "      <td>0.0000</td>\n",
       "      <td>-0.03586</td>\n",
       "      <td>-0.46970</td>\n",
       "      <td>0.18559</td>\n",
       "      <td>-0.25601</td>\n",
       "      <td>0.0</td>\n",
       "      <td>0.0</td>\n",
       "      <td>...</td>\n",
       "      <td>0.0</td>\n",
       "      <td>-0.39888</td>\n",
       "      <td>0.0</td>\n",
       "      <td>0.10444</td>\n",
       "      <td>-0.16434</td>\n",
       "      <td>0.19146</td>\n",
       "      <td>0.41561</td>\n",
       "      <td>0.39384</td>\n",
       "      <td>0.12790</td>\n",
       "      <td>0.00000</td>\n",
       "    </tr>\n",
       "    <tr>\n",
       "      <th>DataSet_01_005</th>\n",
       "      <td>0.47850</td>\n",
       "      <td>-0.37571</td>\n",
       "      <td>-0.84718</td>\n",
       "      <td>0.0000</td>\n",
       "      <td>3.35445</td>\n",
       "      <td>0.17104</td>\n",
       "      <td>-0.34852</td>\n",
       "      <td>-0.95517</td>\n",
       "      <td>0.0</td>\n",
       "      <td>0.0</td>\n",
       "      <td>...</td>\n",
       "      <td>0.0</td>\n",
       "      <td>0.24849</td>\n",
       "      <td>0.0</td>\n",
       "      <td>-0.28692</td>\n",
       "      <td>-0.01815</td>\n",
       "      <td>0.11941</td>\n",
       "      <td>0.07785</td>\n",
       "      <td>0.23474</td>\n",
       "      <td>0.22869</td>\n",
       "      <td>0.00000</td>\n",
       "    </tr>\n",
       "  </tbody>\n",
       "</table>\n",
       "<p>5 rows × 21985 columns</p>\n",
       "</div>"
      ],
      "text/plain": [
       "                   A1BG  A1BG-AS1     A1CF   A2LD1      A2M    A2ML1   A4GALT  \\\n",
       "DataSet_01_001  0.00000   0.00000  0.00000  0.0000  0.00000  0.00000  0.00000   \n",
       "DataSet_01_002 -0.17375   0.00000 -0.53779 -0.4424 -1.59664 -0.00010 -0.08260   \n",
       "DataSet_01_003 -0.21613   0.00000 -0.22027 -0.0008  0.00000  0.15580 -0.35802   \n",
       "DataSet_01_004 -0.25568   0.11105 -0.28527  0.0000 -0.03586 -0.46970  0.18559   \n",
       "DataSet_01_005  0.47850  -0.37571 -0.84718  0.0000  3.35445  0.17104 -0.34852   \n",
       "\n",
       "                  A4GNT  AA06  AAA1  ...  ZWINT     ZXDA  ZXDB     ZXDC  \\\n",
       "DataSet_01_001  0.00000   0.0   0.0  ...    0.0  0.00000   0.0  0.00000   \n",
       "DataSet_01_002 -3.64590   0.0   0.0  ...    0.0  0.39579   0.0  0.08611   \n",
       "DataSet_01_003 -0.32025   0.0   0.0  ...    0.0 -0.82964   0.0  0.06447   \n",
       "DataSet_01_004 -0.25601   0.0   0.0  ...    0.0 -0.39888   0.0  0.10444   \n",
       "DataSet_01_005 -0.95517   0.0   0.0  ...    0.0  0.24849   0.0 -0.28692   \n",
       "\n",
       "                 ZYG11A   ZYG11B      ZYX    ZZEF1     ZZZ3  psiTPTE22  \n",
       "DataSet_01_001  0.00000  0.00000 -0.03322 -0.04690 -0.14383    0.00000  \n",
       "DataSet_01_002  0.28574 -0.13021 -0.27664 -0.88158  0.81295    0.47896  \n",
       "DataSet_01_003  0.59323  0.31395 -0.23260  0.06551 -0.14714    0.00000  \n",
       "DataSet_01_004 -0.16434  0.19146  0.41561  0.39384  0.12790    0.00000  \n",
       "DataSet_01_005 -0.01815  0.11941  0.07785  0.23474  0.22869    0.00000  \n",
       "\n",
       "[5 rows x 21985 columns]"
      ]
     },
     "execution_count": 7,
     "metadata": {},
     "output_type": "execute_result"
    }
   ],
   "source": [
    "mat.head()"
   ]
  },
  {
   "cell_type": "markdown",
   "id": "c420680b",
   "metadata": {},
   "source": [
    "On the other hand, `obs` contains the meta-data information of each perturbation experiment.\n",
    "Here one can find which TF was perturbed (`TF` column), and many other useful information."
   ]
  },
  {
   "cell_type": "markdown",
   "id": "0555fc1f-da6d-429e-a9b1-81171556c6cd",
   "metadata": {},
   "source": [
    "一方、obsには各摂動実験のメタデータ情報が含まれている。ここでは、どのTFが摂動されたか（TFカラム）、その他多くの有用な情報を得ることができる。"
   ]
  },
  {
   "cell_type": "code",
   "execution_count": 8,
   "id": "fa5396dc",
   "metadata": {
    "tags": []
   },
   "outputs": [
    {
     "data": {
      "text/html": [
       "<div>\n",
       "<style scoped>\n",
       "    .dataframe tbody tr th:only-of-type {\n",
       "        vertical-align: middle;\n",
       "    }\n",
       "\n",
       "    .dataframe tbody tr th {\n",
       "        vertical-align: top;\n",
       "    }\n",
       "\n",
       "    .dataframe thead th {\n",
       "        text-align: right;\n",
       "    }\n",
       "</style>\n",
       "<table border=\"1\" class=\"dataframe\">\n",
       "  <thead>\n",
       "    <tr style=\"text-align: right;\">\n",
       "      <th></th>\n",
       "      <th>TF</th>\n",
       "      <th>Species</th>\n",
       "      <th>Knock.Method</th>\n",
       "      <th>Biosample.Name</th>\n",
       "      <th>Profile.ID</th>\n",
       "      <th>Platform</th>\n",
       "      <th>TF.Class</th>\n",
       "      <th>TF.Superclass</th>\n",
       "      <th>Tissue.Type</th>\n",
       "      <th>Biosample.Type</th>\n",
       "      <th>Data.Source</th>\n",
       "      <th>Pubmed.ID</th>\n",
       "      <th>logFC</th>\n",
       "    </tr>\n",
       "  </thead>\n",
       "  <tbody>\n",
       "    <tr>\n",
       "      <th>DataSet_01_001</th>\n",
       "      <td>ESR1</td>\n",
       "      <td>Homo sapiens</td>\n",
       "      <td>siRNA</td>\n",
       "      <td>MCF7</td>\n",
       "      <td>GSE10061</td>\n",
       "      <td>GPL3921</td>\n",
       "      <td>Nuclear receptors with C4 zinc fingers</td>\n",
       "      <td>Zinc-coordinating DNA-binding domains</td>\n",
       "      <td>Mammary_gland</td>\n",
       "      <td>Cell line</td>\n",
       "      <td>GEO</td>\n",
       "      <td>18631401</td>\n",
       "      <td>-0.71385</td>\n",
       "    </tr>\n",
       "    <tr>\n",
       "      <th>DataSet_01_002</th>\n",
       "      <td>HNF1A</td>\n",
       "      <td>Homo sapiens</td>\n",
       "      <td>shRNA</td>\n",
       "      <td>HuH7</td>\n",
       "      <td>GSE103128</td>\n",
       "      <td>GPL18180</td>\n",
       "      <td>Homeo domain factors</td>\n",
       "      <td>Helix-turn-helix domains</td>\n",
       "      <td>Liver</td>\n",
       "      <td>Cell line</td>\n",
       "      <td>GEO</td>\n",
       "      <td>29466992</td>\n",
       "      <td>0.16428</td>\n",
       "    </tr>\n",
       "    <tr>\n",
       "      <th>DataSet_01_003</th>\n",
       "      <td>MLXIP</td>\n",
       "      <td>Homo sapiens</td>\n",
       "      <td>shRNA</td>\n",
       "      <td>HA1ER</td>\n",
       "      <td>GSE11242</td>\n",
       "      <td>GPL4133</td>\n",
       "      <td>Basic helix-loop-helix factors (bHLH)</td>\n",
       "      <td>Basic domains</td>\n",
       "      <td>Embryo_kidney</td>\n",
       "      <td>Stem cell</td>\n",
       "      <td>GEO</td>\n",
       "      <td>18458340</td>\n",
       "      <td>0.26215</td>\n",
       "    </tr>\n",
       "    <tr>\n",
       "      <th>DataSet_01_004</th>\n",
       "      <td>CREB1</td>\n",
       "      <td>Homo sapiens</td>\n",
       "      <td>shRNA</td>\n",
       "      <td>K562</td>\n",
       "      <td>GSE12056</td>\n",
       "      <td>GPL570</td>\n",
       "      <td>Basic leucine zipper factors (bZIP)</td>\n",
       "      <td>Basic domains</td>\n",
       "      <td>Haematopoietic_and_lymphoid_tissue</td>\n",
       "      <td>Cell line</td>\n",
       "      <td>GEO</td>\n",
       "      <td>18801183</td>\n",
       "      <td>-0.95018</td>\n",
       "    </tr>\n",
       "    <tr>\n",
       "      <th>DataSet_01_005</th>\n",
       "      <td>POU5F1</td>\n",
       "      <td>Homo sapiens</td>\n",
       "      <td>siRNA</td>\n",
       "      <td>GBS6</td>\n",
       "      <td>GSE12320</td>\n",
       "      <td>GPL570</td>\n",
       "      <td>Homeo domain factors</td>\n",
       "      <td>Helix-turn-helix domains</td>\n",
       "      <td>Bone_marrow</td>\n",
       "      <td>Cell line</td>\n",
       "      <td>GEO</td>\n",
       "      <td>20203285</td>\n",
       "      <td>0.00000</td>\n",
       "    </tr>\n",
       "  </tbody>\n",
       "</table>\n",
       "</div>"
      ],
      "text/plain": [
       "                    TF       Species Knock.Method Biosample.Name Profile.ID  \\\n",
       "DataSet_01_001    ESR1  Homo sapiens        siRNA           MCF7   GSE10061   \n",
       "DataSet_01_002   HNF1A  Homo sapiens        shRNA           HuH7  GSE103128   \n",
       "DataSet_01_003   MLXIP  Homo sapiens        shRNA          HA1ER   GSE11242   \n",
       "DataSet_01_004   CREB1  Homo sapiens        shRNA           K562   GSE12056   \n",
       "DataSet_01_005  POU5F1  Homo sapiens        siRNA           GBS6   GSE12320   \n",
       "\n",
       "                Platform                                TF.Class  \\\n",
       "DataSet_01_001   GPL3921  Nuclear receptors with C4 zinc fingers   \n",
       "DataSet_01_002  GPL18180                    Homeo domain factors   \n",
       "DataSet_01_003   GPL4133   Basic helix-loop-helix factors (bHLH)   \n",
       "DataSet_01_004    GPL570     Basic leucine zipper factors (bZIP)   \n",
       "DataSet_01_005    GPL570                    Homeo domain factors   \n",
       "\n",
       "                                        TF.Superclass  \\\n",
       "DataSet_01_001  Zinc-coordinating DNA-binding domains   \n",
       "DataSet_01_002               Helix-turn-helix domains   \n",
       "DataSet_01_003                          Basic domains   \n",
       "DataSet_01_004                          Basic domains   \n",
       "DataSet_01_005               Helix-turn-helix domains   \n",
       "\n",
       "                                       Tissue.Type Biosample.Type Data.Source  \\\n",
       "DataSet_01_001                       Mammary_gland      Cell line         GEO   \n",
       "DataSet_01_002                               Liver      Cell line         GEO   \n",
       "DataSet_01_003                       Embryo_kidney      Stem cell         GEO   \n",
       "DataSet_01_004  Haematopoietic_and_lymphoid_tissue      Cell line         GEO   \n",
       "DataSet_01_005                         Bone_marrow      Cell line         GEO   \n",
       "\n",
       "               Pubmed.ID    logFC  \n",
       "DataSet_01_001  18631401 -0.71385  \n",
       "DataSet_01_002  29466992  0.16428  \n",
       "DataSet_01_003  18458340  0.26215  \n",
       "DataSet_01_004  18801183 -0.95018  \n",
       "DataSet_01_005  20203285  0.00000  "
      ]
     },
     "execution_count": 8,
     "metadata": {},
     "output_type": "execute_result"
    }
   ],
   "source": [
    "obs.head()"
   ]
  },
  {
   "cell_type": "markdown",
   "id": "f6d02df0",
   "metadata": {},
   "source": [
    "## Filtering\n",
    "\n",
    "Since some of the experiments collected inside KnockTF are of low quality, it is best to remove them. We can do this by filtering\n",
    "perturbation experiments where the knocked TF does not show a strong negative logFC (meaning that the knock method did not work).\n"
   ]
  },
  {
   "cell_type": "markdown",
   "id": "64e76186-a011-4f54-8b3e-cf99e6154f8c",
   "metadata": {},
   "source": [
    "KnockTFの中で収集された実験のいくつかは質が低いので、それらを除去するのが最善である。これは、ノックされたTFが強い負のlogFCを示さない（ノック法が機能しなかったことを意味する）摂動実験をフィルタリングすることによって行うことができる。"
   ]
  },
  {
   "cell_type": "code",
   "execution_count": 9,
   "id": "b5450177",
   "metadata": {
    "tags": []
   },
   "outputs": [],
   "source": [
    "# Filter out low quality experiments (positive logFCs in knockout experiments)\n",
    "msk = obs['logFC'] < -1\n",
    "mat = mat[msk]\n",
    "obs = obs[msk]"
   ]
  },
  {
   "cell_type": "code",
   "execution_count": 10,
   "id": "1751080c-c648-4b69-bf8c-e66c0b9fb135",
   "metadata": {},
   "outputs": [
    {
     "data": {
      "text/html": [
       "<div>\n",
       "<style scoped>\n",
       "    .dataframe tbody tr th:only-of-type {\n",
       "        vertical-align: middle;\n",
       "    }\n",
       "\n",
       "    .dataframe tbody tr th {\n",
       "        vertical-align: top;\n",
       "    }\n",
       "\n",
       "    .dataframe thead th {\n",
       "        text-align: right;\n",
       "    }\n",
       "</style>\n",
       "<table border=\"1\" class=\"dataframe\">\n",
       "  <thead>\n",
       "    <tr style=\"text-align: right;\">\n",
       "      <th></th>\n",
       "      <th>A1BG</th>\n",
       "      <th>A1BG-AS1</th>\n",
       "      <th>A1CF</th>\n",
       "      <th>A2LD1</th>\n",
       "      <th>A2M</th>\n",
       "      <th>A2ML1</th>\n",
       "      <th>A4GALT</th>\n",
       "      <th>A4GNT</th>\n",
       "      <th>AA06</th>\n",
       "      <th>AAA1</th>\n",
       "      <th>...</th>\n",
       "      <th>ZWINT</th>\n",
       "      <th>ZXDA</th>\n",
       "      <th>ZXDB</th>\n",
       "      <th>ZXDC</th>\n",
       "      <th>ZYG11A</th>\n",
       "      <th>ZYG11B</th>\n",
       "      <th>ZYX</th>\n",
       "      <th>ZZEF1</th>\n",
       "      <th>ZZZ3</th>\n",
       "      <th>psiTPTE22</th>\n",
       "    </tr>\n",
       "  </thead>\n",
       "  <tbody>\n",
       "    <tr>\n",
       "      <th>DataSet_01_006</th>\n",
       "      <td>-0.41056</td>\n",
       "      <td>3.13675</td>\n",
       "      <td>-0.49427</td>\n",
       "      <td>0.00000</td>\n",
       "      <td>0.23968</td>\n",
       "      <td>1.37572</td>\n",
       "      <td>-0.03733</td>\n",
       "      <td>0.56758</td>\n",
       "      <td>0.0</td>\n",
       "      <td>0.0</td>\n",
       "      <td>...</td>\n",
       "      <td>0.0</td>\n",
       "      <td>-0.39262</td>\n",
       "      <td>0.0</td>\n",
       "      <td>-0.24752</td>\n",
       "      <td>-0.03830</td>\n",
       "      <td>-0.05072</td>\n",
       "      <td>0.17918</td>\n",
       "      <td>-0.17708</td>\n",
       "      <td>0.08701</td>\n",
       "      <td>0.0</td>\n",
       "    </tr>\n",
       "    <tr>\n",
       "      <th>DataSet_01_007</th>\n",
       "      <td>-0.50900</td>\n",
       "      <td>2.12951</td>\n",
       "      <td>-0.16245</td>\n",
       "      <td>0.00000</td>\n",
       "      <td>0.02671</td>\n",
       "      <td>-0.61539</td>\n",
       "      <td>0.06548</td>\n",
       "      <td>0.87137</td>\n",
       "      <td>0.0</td>\n",
       "      <td>0.0</td>\n",
       "      <td>...</td>\n",
       "      <td>0.0</td>\n",
       "      <td>-0.22490</td>\n",
       "      <td>0.0</td>\n",
       "      <td>-0.17279</td>\n",
       "      <td>-0.54982</td>\n",
       "      <td>-0.22164</td>\n",
       "      <td>-0.13836</td>\n",
       "      <td>0.23519</td>\n",
       "      <td>0.13498</td>\n",
       "      <td>0.0</td>\n",
       "    </tr>\n",
       "    <tr>\n",
       "      <th>DataSet_01_008</th>\n",
       "      <td>-0.25537</td>\n",
       "      <td>0.06701</td>\n",
       "      <td>0.31111</td>\n",
       "      <td>0.00000</td>\n",
       "      <td>-0.02576</td>\n",
       "      <td>-0.15574</td>\n",
       "      <td>0.00037</td>\n",
       "      <td>-0.14773</td>\n",
       "      <td>0.0</td>\n",
       "      <td>0.0</td>\n",
       "      <td>...</td>\n",
       "      <td>0.0</td>\n",
       "      <td>0.35065</td>\n",
       "      <td>0.0</td>\n",
       "      <td>0.15874</td>\n",
       "      <td>0.04277</td>\n",
       "      <td>0.34284</td>\n",
       "      <td>-0.09468</td>\n",
       "      <td>0.16314</td>\n",
       "      <td>0.02952</td>\n",
       "      <td>0.0</td>\n",
       "    </tr>\n",
       "    <tr>\n",
       "      <th>DataSet_01_010</th>\n",
       "      <td>0.05667</td>\n",
       "      <td>0.00000</td>\n",
       "      <td>0.81121</td>\n",
       "      <td>0.46618</td>\n",
       "      <td>-0.45087</td>\n",
       "      <td>0.05971</td>\n",
       "      <td>0.00786</td>\n",
       "      <td>-0.30456</td>\n",
       "      <td>0.0</td>\n",
       "      <td>0.0</td>\n",
       "      <td>...</td>\n",
       "      <td>0.0</td>\n",
       "      <td>1.63275</td>\n",
       "      <td>0.0</td>\n",
       "      <td>0.40010</td>\n",
       "      <td>1.81472</td>\n",
       "      <td>0.32373</td>\n",
       "      <td>-0.30996</td>\n",
       "      <td>0.39868</td>\n",
       "      <td>0.77080</td>\n",
       "      <td>0.0</td>\n",
       "    </tr>\n",
       "    <tr>\n",
       "      <th>DataSet_01_011</th>\n",
       "      <td>-0.03059</td>\n",
       "      <td>0.00000</td>\n",
       "      <td>0.00000</td>\n",
       "      <td>0.00000</td>\n",
       "      <td>-1.20615</td>\n",
       "      <td>0.00000</td>\n",
       "      <td>0.57765</td>\n",
       "      <td>0.00000</td>\n",
       "      <td>0.0</td>\n",
       "      <td>0.0</td>\n",
       "      <td>...</td>\n",
       "      <td>0.0</td>\n",
       "      <td>0.00000</td>\n",
       "      <td>0.0</td>\n",
       "      <td>0.00000</td>\n",
       "      <td>0.00000</td>\n",
       "      <td>0.00000</td>\n",
       "      <td>0.08458</td>\n",
       "      <td>0.00000</td>\n",
       "      <td>0.00000</td>\n",
       "      <td>0.0</td>\n",
       "    </tr>\n",
       "  </tbody>\n",
       "</table>\n",
       "<p>5 rows × 21985 columns</p>\n",
       "</div>"
      ],
      "text/plain": [
       "                   A1BG  A1BG-AS1     A1CF    A2LD1      A2M    A2ML1  \\\n",
       "DataSet_01_006 -0.41056   3.13675 -0.49427  0.00000  0.23968  1.37572   \n",
       "DataSet_01_007 -0.50900   2.12951 -0.16245  0.00000  0.02671 -0.61539   \n",
       "DataSet_01_008 -0.25537   0.06701  0.31111  0.00000 -0.02576 -0.15574   \n",
       "DataSet_01_010  0.05667   0.00000  0.81121  0.46618 -0.45087  0.05971   \n",
       "DataSet_01_011 -0.03059   0.00000  0.00000  0.00000 -1.20615  0.00000   \n",
       "\n",
       "                 A4GALT    A4GNT  AA06  AAA1  ...  ZWINT     ZXDA  ZXDB  \\\n",
       "DataSet_01_006 -0.03733  0.56758   0.0   0.0  ...    0.0 -0.39262   0.0   \n",
       "DataSet_01_007  0.06548  0.87137   0.0   0.0  ...    0.0 -0.22490   0.0   \n",
       "DataSet_01_008  0.00037 -0.14773   0.0   0.0  ...    0.0  0.35065   0.0   \n",
       "DataSet_01_010  0.00786 -0.30456   0.0   0.0  ...    0.0  1.63275   0.0   \n",
       "DataSet_01_011  0.57765  0.00000   0.0   0.0  ...    0.0  0.00000   0.0   \n",
       "\n",
       "                   ZXDC   ZYG11A   ZYG11B      ZYX    ZZEF1     ZZZ3  \\\n",
       "DataSet_01_006 -0.24752 -0.03830 -0.05072  0.17918 -0.17708  0.08701   \n",
       "DataSet_01_007 -0.17279 -0.54982 -0.22164 -0.13836  0.23519  0.13498   \n",
       "DataSet_01_008  0.15874  0.04277  0.34284 -0.09468  0.16314  0.02952   \n",
       "DataSet_01_010  0.40010  1.81472  0.32373 -0.30996  0.39868  0.77080   \n",
       "DataSet_01_011  0.00000  0.00000  0.00000  0.08458  0.00000  0.00000   \n",
       "\n",
       "                psiTPTE22  \n",
       "DataSet_01_006        0.0  \n",
       "DataSet_01_007        0.0  \n",
       "DataSet_01_008        0.0  \n",
       "DataSet_01_010        0.0  \n",
       "DataSet_01_011        0.0  \n",
       "\n",
       "[5 rows x 21985 columns]"
      ]
     },
     "execution_count": 10,
     "metadata": {},
     "output_type": "execute_result"
    }
   ],
   "source": [
    "mat.head()"
   ]
  },
  {
   "cell_type": "code",
   "execution_count": 11,
   "id": "cf1f1929-9126-4f33-8ddc-a4c6041a655b",
   "metadata": {},
   "outputs": [
    {
     "data": {
      "text/plain": [
       "(388, 21985)"
      ]
     },
     "execution_count": 11,
     "metadata": {},
     "output_type": "execute_result"
    }
   ],
   "source": [
    "mat.shape"
   ]
  },
  {
   "cell_type": "code",
   "execution_count": 12,
   "id": "1875b73c-8913-477e-8e7b-cb663c80e232",
   "metadata": {},
   "outputs": [
    {
     "data": {
      "text/html": [
       "<div>\n",
       "<style scoped>\n",
       "    .dataframe tbody tr th:only-of-type {\n",
       "        vertical-align: middle;\n",
       "    }\n",
       "\n",
       "    .dataframe tbody tr th {\n",
       "        vertical-align: top;\n",
       "    }\n",
       "\n",
       "    .dataframe thead th {\n",
       "        text-align: right;\n",
       "    }\n",
       "</style>\n",
       "<table border=\"1\" class=\"dataframe\">\n",
       "  <thead>\n",
       "    <tr style=\"text-align: right;\">\n",
       "      <th></th>\n",
       "      <th>TF</th>\n",
       "      <th>Species</th>\n",
       "      <th>Knock.Method</th>\n",
       "      <th>Biosample.Name</th>\n",
       "      <th>Profile.ID</th>\n",
       "      <th>Platform</th>\n",
       "      <th>TF.Class</th>\n",
       "      <th>TF.Superclass</th>\n",
       "      <th>Tissue.Type</th>\n",
       "      <th>Biosample.Type</th>\n",
       "      <th>Data.Source</th>\n",
       "      <th>Pubmed.ID</th>\n",
       "      <th>logFC</th>\n",
       "    </tr>\n",
       "  </thead>\n",
       "  <tbody>\n",
       "    <tr>\n",
       "      <th>DataSet_01_006</th>\n",
       "      <td>PROX1</td>\n",
       "      <td>Homo sapiens</td>\n",
       "      <td>siRNA</td>\n",
       "      <td>Primary lymphatic endothelial cells</td>\n",
       "      <td>GSE12846</td>\n",
       "      <td>GPL570</td>\n",
       "      <td>Homeo domain factors</td>\n",
       "      <td>Helix-turn-helix domains</td>\n",
       "      <td>Foreskin</td>\n",
       "      <td>Primary cell</td>\n",
       "      <td>GEO</td>\n",
       "      <td>18815287</td>\n",
       "      <td>-1.13977</td>\n",
       "    </tr>\n",
       "    <tr>\n",
       "      <th>DataSet_01_007</th>\n",
       "      <td>NR2F2</td>\n",
       "      <td>Homo sapiens</td>\n",
       "      <td>siRNA</td>\n",
       "      <td>Primary lymphatic endothelial cells</td>\n",
       "      <td>GSE12846</td>\n",
       "      <td>GPL570</td>\n",
       "      <td>Nuclear receptors with C4 zinc fingers</td>\n",
       "      <td>Zinc-coordinating DNA-binding domains</td>\n",
       "      <td>Foreskin</td>\n",
       "      <td>Primary cell</td>\n",
       "      <td>GEO</td>\n",
       "      <td>18815287</td>\n",
       "      <td>-1.34696</td>\n",
       "    </tr>\n",
       "    <tr>\n",
       "      <th>DataSet_01_008</th>\n",
       "      <td>WT1</td>\n",
       "      <td>Homo sapiens</td>\n",
       "      <td>siRNA</td>\n",
       "      <td>PLC/PRF/5</td>\n",
       "      <td>GSE12886</td>\n",
       "      <td>GPL570</td>\n",
       "      <td>C2H2 zinc finger factors</td>\n",
       "      <td>Zinc-coordinating DNA-binding domains</td>\n",
       "      <td>Liver</td>\n",
       "      <td>Cell line</td>\n",
       "      <td>GEO</td>\n",
       "      <td>19190340</td>\n",
       "      <td>-1.11474</td>\n",
       "    </tr>\n",
       "    <tr>\n",
       "      <th>DataSet_01_010</th>\n",
       "      <td>TP53</td>\n",
       "      <td>Homo sapiens</td>\n",
       "      <td>shRNA</td>\n",
       "      <td>iPS cells</td>\n",
       "      <td>GSE13334</td>\n",
       "      <td>GPL4133</td>\n",
       "      <td>p53 domain factors</td>\n",
       "      <td>Immunoglobulin fold</td>\n",
       "      <td>Dermal_fibroblasts</td>\n",
       "      <td>Induced pluripotent stem cell</td>\n",
       "      <td>GEO</td>\n",
       "      <td>19668191</td>\n",
       "      <td>-3.13745</td>\n",
       "    </tr>\n",
       "    <tr>\n",
       "      <th>DataSet_01_011</th>\n",
       "      <td>TP53</td>\n",
       "      <td>Homo sapiens</td>\n",
       "      <td>siRNA</td>\n",
       "      <td>U251</td>\n",
       "      <td>GSE13991</td>\n",
       "      <td>GPL1426</td>\n",
       "      <td>p53 domain factors</td>\n",
       "      <td>Immunoglobulin fold</td>\n",
       "      <td>Central_nervous_system</td>\n",
       "      <td>Cell line</td>\n",
       "      <td>GEO</td>\n",
       "      <td>19139068</td>\n",
       "      <td>-2.43895</td>\n",
       "    </tr>\n",
       "  </tbody>\n",
       "</table>\n",
       "</div>"
      ],
      "text/plain": [
       "                   TF       Species Knock.Method  \\\n",
       "DataSet_01_006  PROX1  Homo sapiens        siRNA   \n",
       "DataSet_01_007  NR2F2  Homo sapiens        siRNA   \n",
       "DataSet_01_008    WT1  Homo sapiens        siRNA   \n",
       "DataSet_01_010   TP53  Homo sapiens        shRNA   \n",
       "DataSet_01_011   TP53  Homo sapiens        siRNA   \n",
       "\n",
       "                                     Biosample.Name Profile.ID Platform  \\\n",
       "DataSet_01_006  Primary lymphatic endothelial cells   GSE12846   GPL570   \n",
       "DataSet_01_007  Primary lymphatic endothelial cells   GSE12846   GPL570   \n",
       "DataSet_01_008                            PLC/PRF/5   GSE12886   GPL570   \n",
       "DataSet_01_010                            iPS cells   GSE13334  GPL4133   \n",
       "DataSet_01_011                                 U251   GSE13991  GPL1426   \n",
       "\n",
       "                                              TF.Class  \\\n",
       "DataSet_01_006                    Homeo domain factors   \n",
       "DataSet_01_007  Nuclear receptors with C4 zinc fingers   \n",
       "DataSet_01_008                C2H2 zinc finger factors   \n",
       "DataSet_01_010                      p53 domain factors   \n",
       "DataSet_01_011                      p53 domain factors   \n",
       "\n",
       "                                        TF.Superclass             Tissue.Type  \\\n",
       "DataSet_01_006               Helix-turn-helix domains                Foreskin   \n",
       "DataSet_01_007  Zinc-coordinating DNA-binding domains                Foreskin   \n",
       "DataSet_01_008  Zinc-coordinating DNA-binding domains                   Liver   \n",
       "DataSet_01_010                    Immunoglobulin fold      Dermal_fibroblasts   \n",
       "DataSet_01_011                    Immunoglobulin fold  Central_nervous_system   \n",
       "\n",
       "                               Biosample.Type Data.Source Pubmed.ID    logFC  \n",
       "DataSet_01_006                   Primary cell         GEO  18815287 -1.13977  \n",
       "DataSet_01_007                   Primary cell         GEO  18815287 -1.34696  \n",
       "DataSet_01_008                      Cell line         GEO  19190340 -1.11474  \n",
       "DataSet_01_010  Induced pluripotent stem cell         GEO  19668191 -3.13745  \n",
       "DataSet_01_011                      Cell line         GEO  19139068 -2.43895  "
      ]
     },
     "execution_count": 12,
     "metadata": {},
     "output_type": "execute_result"
    }
   ],
   "source": [
    "obs.head()"
   ]
  },
  {
   "cell_type": "code",
   "execution_count": 13,
   "id": "0925faf1-8e6f-4692-80bf-af51f33cf171",
   "metadata": {},
   "outputs": [
    {
     "data": {
      "text/plain": [
       "(388, 13)"
      ]
     },
     "execution_count": 13,
     "metadata": {},
     "output_type": "execute_result"
    }
   ],
   "source": [
    "obs.shape"
   ]
  },
  {
   "cell_type": "markdown",
   "id": "af388fa0",
   "metadata": {},
   "source": [
    "## Evaluation\n",
    "\n",
    "### Single network\n",
    "\n",
    "As an example, we will evaluate the gene regulatory network\n",
    "[CollecTRI](https://github.com/saezlab/CollecTRI), for more information you can visit this\n",
    "[other vignette](https://decoupler-py.readthedocs.io/en/latest/notebooks/dorothea.html).\n",
    "\n",
    "We can retrieve this network by running:"
   ]
  },
  {
   "cell_type": "markdown",
   "id": "5b4c0fac-aa58-466e-a120-0d9cf93fc282",
   "metadata": {},
   "source": [
    "例として、遺伝子制御ネットワークCollecTRIを評価する。\n",
    "\n",
    "このネットワークは"
   ]
  },
  {
   "cell_type": "code",
   "execution_count": 14,
   "id": "e66d6631-575b-4f1e-ae33-89e0f78e2d1d",
   "metadata": {
    "tags": []
   },
   "outputs": [],
   "source": [
    "# Get collectri\n",
    "collectri = dc.get_collectri(organism='human', split_complexes=False)"
   ]
  },
  {
   "cell_type": "code",
   "execution_count": 15,
   "id": "43e40621-ce06-4c6c-9bf5-e2c4047e7e57",
   "metadata": {},
   "outputs": [
    {
     "data": {
      "text/html": [
       "<div>\n",
       "<style scoped>\n",
       "    .dataframe tbody tr th:only-of-type {\n",
       "        vertical-align: middle;\n",
       "    }\n",
       "\n",
       "    .dataframe tbody tr th {\n",
       "        vertical-align: top;\n",
       "    }\n",
       "\n",
       "    .dataframe thead th {\n",
       "        text-align: right;\n",
       "    }\n",
       "</style>\n",
       "<table border=\"1\" class=\"dataframe\">\n",
       "  <thead>\n",
       "    <tr style=\"text-align: right;\">\n",
       "      <th></th>\n",
       "      <th>source</th>\n",
       "      <th>target</th>\n",
       "      <th>weight</th>\n",
       "      <th>PMID</th>\n",
       "    </tr>\n",
       "  </thead>\n",
       "  <tbody>\n",
       "    <tr>\n",
       "      <th>0</th>\n",
       "      <td>MYC</td>\n",
       "      <td>TERT</td>\n",
       "      <td>1</td>\n",
       "      <td>10022128;10491298;10606235;10637317;10723141;1...</td>\n",
       "    </tr>\n",
       "    <tr>\n",
       "      <th>1</th>\n",
       "      <td>SPI1</td>\n",
       "      <td>BGLAP</td>\n",
       "      <td>1</td>\n",
       "      <td>10022617</td>\n",
       "    </tr>\n",
       "    <tr>\n",
       "      <th>2</th>\n",
       "      <td>SMAD3</td>\n",
       "      <td>JUN</td>\n",
       "      <td>1</td>\n",
       "      <td>10022869;12374795</td>\n",
       "    </tr>\n",
       "    <tr>\n",
       "      <th>3</th>\n",
       "      <td>SMAD4</td>\n",
       "      <td>JUN</td>\n",
       "      <td>1</td>\n",
       "      <td>10022869;12374795</td>\n",
       "    </tr>\n",
       "    <tr>\n",
       "      <th>4</th>\n",
       "      <td>STAT5A</td>\n",
       "      <td>IL2</td>\n",
       "      <td>1</td>\n",
       "      <td>10022878;11435608;17182565;17911616;22854263;2...</td>\n",
       "    </tr>\n",
       "  </tbody>\n",
       "</table>\n",
       "</div>"
      ],
      "text/plain": [
       "   source target  weight                                               PMID\n",
       "0     MYC   TERT       1  10022128;10491298;10606235;10637317;10723141;1...\n",
       "1    SPI1  BGLAP       1                                           10022617\n",
       "2   SMAD3    JUN       1                                  10022869;12374795\n",
       "3   SMAD4    JUN       1                                  10022869;12374795\n",
       "4  STAT5A    IL2       1  10022878;11435608;17182565;17911616;22854263;2..."
      ]
     },
     "execution_count": 15,
     "metadata": {},
     "output_type": "execute_result"
    }
   ],
   "source": [
    "collectri.head()"
   ]
  },
  {
   "cell_type": "markdown",
   "id": "3c906e41",
   "metadata": {},
   "source": [
    "We will run the benchmark pipeline using the top performer methods from `decoupler`. If we would like, we could use any other,\n",
    "and we can optionaly change their parametters too (for more information check the `decouple` function).\n",
    "\n",
    "To run the benchmark pipeline, we need input molecular data (`mat`), its associated metadata (`obs`) with the name of the\n",
    "column where the perturbed regulators are (`perturb`), and which direction the pertrubations are (`sign`, positive or negative).\n",
    "    \n",
    "Note that if you want to ignore missing values in the input `mat` (denoted as zeros), you can add the parameter `'dense': True` to `decouple_kws`."
   ]
  },
  {
   "cell_type": "markdown",
   "id": "490898a7-ac57-4e8b-a4d3-1a477120d033",
   "metadata": {},
   "source": [
    "decouplerのトップパフォーマーのメソッドを使ってベンチマークパイプラインを実行する。必要であれば、他のメソッドも使用することができ、オプションでパラメータを変更することもできます（詳細はdecouple関数を参照してください）。\n",
    "\n",
    "ベンチマークパイプラインを実行するには、分子データ(mat)、それに関連するメタデータ(obs)、摂動が加えられたカラムの名前(perturb)、摂動の方向(sign, positive or negative)を入力する必要がある。\n",
    "\n",
    "入力マットの欠損値（ゼロ）を無視したい場合は、'dense' パラメータを追加してください： を指定します。"
   ]
  },
  {
   "cell_type": "code",
   "execution_count": 16,
   "id": "947b03a7-f674-41de-91a7-eb241fe8efac",
   "metadata": {},
   "outputs": [],
   "source": [
    "# Example on how to set up decouple arguments\n",
    "decouple_kws={\n",
    "    'methods' : ['wsum', 'ulm', 'mlm'],\n",
    "    'consensus': True,\n",
    "    'args' : {\n",
    "        'wsum' : {'times': 100}\n",
    "    }\n",
    "}"
   ]
  },
  {
   "cell_type": "code",
   "execution_count": 17,
   "id": "737759f4",
   "metadata": {
    "tags": []
   },
   "outputs": [
    {
     "name": "stdout",
     "output_type": "stream",
     "text": [
      "Extracting inputs...\n",
      "Formating net...\n",
      "Removed 109 experiments without sources in net.\n",
      "Running 279 experiments for 155 unique sources.\n",
      "Running methods...\n",
      "52 features of mat are empty, they will be removed.\n",
      "Running wsum on mat with 279 samples and 21933 targets for 766 sources.\n",
      "52 features of mat are empty, they will be removed.\n",
      "Running ulm on mat with 279 samples and 21933 targets for 766 sources.\n",
      "52 features of mat are empty, they will be removed.\n",
      "Running mlm on mat with 279 samples and 21933 targets for 766 sources.\n",
      "Calculating metrics...\n",
      "Computing metrics...\n",
      "Done.\n"
     ]
    }
   ],
   "source": [
    "# Run benchmark pipeline\n",
    "df = dc.benchmark(\n",
    "    mat, obs, collectri,\n",
    "    perturb='TF', sign=-1, verbose=True,\n",
    "    decouple_kws=decouple_kws\n",
    ")"
   ]
  },
  {
   "cell_type": "markdown",
   "id": "4d0c141a",
   "metadata": {},
   "source": [
    "The result of running the pipeline is a long-format dataframe containing different performance metrics across methods:\n",
    "\n",
    "- `auroc`: Area Under the Receiver Operating characteristic Curve (AUROC)\n",
    "- `auprc`: Area Under the Precision-Recall Curve (AUPRC), which by default uses a calibrated version where 0.5 indicates a random classifier (adapted from [this publication](https://doi.org/10.1007/978-3-030-44584-3_36)).\n",
    "- `mauroc`: Monte-Carlo Area Under the Precision-Recall Curve (AUPRC)\n",
    "- `mauprc`: Monte-Carlo Area Under the Receiver Operating characteristic Curve (AUROC)\n",
    "- `rank`: Rank of the perturbed source per experiment.\n",
    "- `nrank`: Normalized rank of the perturbed source per experiment (close to 0 is better).\n",
    "\n",
    "The Monte-Carlo metrics perform random permutations where each one samples the same number of true positives and true negatives to have balanced sets, returning one value per iteration done (10k by default)."
   ]
  },
  {
   "cell_type": "markdown",
   "id": "7795f124-437f-4cda-af74-b949f234f1a4",
   "metadata": {},
   "source": [
    "パイプラインの実行結果は、メソッド間で異なるパフォーマンスメトリクスを含むロングフォーマットのデータフレームです：\n",
    "\n",
    "- auroc： AUROC: 動作特性曲線下面積 (AUROC)\n",
    "- auprc： Area Under the Precision-Recall Curve (AUPRC)。デフォルトでは、0.5がランダム分類器を示す較正バージョンを使用します（この出版物から引用）。\n",
    "- mauroc： モンテカルロ精度再現曲線下面積 (AUPRC)\n",
    "- mauprc： レシーバ動作特性曲線下モンテカルロ面積 (AUROC)\n",
    "- ランク 実験ごとの摂動ソースのランク。\n",
    "- nrank: 実験ごとの摂動ソースの正規化ランク（0に近いほど良い）。\n",
    "\n",
    "Monte-Carlo メトリクスは、バランスのとれた集合になるように、各々が同じ数の真陽性と真陰性をサンプリングするランダムな並べ替えを実行し、実行された反復ごとに1つの値を返す（デフォルトでは10k）。"
   ]
  },
  {
   "cell_type": "code",
   "execution_count": 18,
   "id": "1c98ebbd-db48-47e2-8cb2-1721692ccbeb",
   "metadata": {
    "tags": []
   },
   "outputs": [
    {
     "data": {
      "text/html": [
       "<div>\n",
       "<style scoped>\n",
       "    .dataframe tbody tr th:only-of-type {\n",
       "        vertical-align: middle;\n",
       "    }\n",
       "\n",
       "    .dataframe tbody tr th {\n",
       "        vertical-align: top;\n",
       "    }\n",
       "\n",
       "    .dataframe thead th {\n",
       "        text-align: right;\n",
       "    }\n",
       "</style>\n",
       "<table border=\"1\" class=\"dataframe\">\n",
       "  <thead>\n",
       "    <tr style=\"text-align: right;\">\n",
       "      <th></th>\n",
       "      <th>groupby</th>\n",
       "      <th>group</th>\n",
       "      <th>source</th>\n",
       "      <th>method</th>\n",
       "      <th>metric</th>\n",
       "      <th>score</th>\n",
       "      <th>ci</th>\n",
       "    </tr>\n",
       "  </thead>\n",
       "  <tbody>\n",
       "    <tr>\n",
       "      <th>0</th>\n",
       "      <td>None</td>\n",
       "      <td>None</td>\n",
       "      <td>None</td>\n",
       "      <td>wsum_estimate</td>\n",
       "      <td>auroc</td>\n",
       "      <td>0.713571</td>\n",
       "      <td>0.001305</td>\n",
       "    </tr>\n",
       "    <tr>\n",
       "      <th>1</th>\n",
       "      <td>None</td>\n",
       "      <td>None</td>\n",
       "      <td>None</td>\n",
       "      <td>wsum_estimate</td>\n",
       "      <td>auprc</td>\n",
       "      <td>0.738849</td>\n",
       "      <td>0.001305</td>\n",
       "    </tr>\n",
       "    <tr>\n",
       "      <th>2</th>\n",
       "      <td>None</td>\n",
       "      <td>None</td>\n",
       "      <td>None</td>\n",
       "      <td>wsum_estimate</td>\n",
       "      <td>mcauroc</td>\n",
       "      <td>0.717372</td>\n",
       "      <td>0.001305</td>\n",
       "    </tr>\n",
       "    <tr>\n",
       "      <th>3</th>\n",
       "      <td>None</td>\n",
       "      <td>None</td>\n",
       "      <td>None</td>\n",
       "      <td>wsum_estimate</td>\n",
       "      <td>mcauroc</td>\n",
       "      <td>0.731504</td>\n",
       "      <td>0.001305</td>\n",
       "    </tr>\n",
       "    <tr>\n",
       "      <th>4</th>\n",
       "      <td>None</td>\n",
       "      <td>None</td>\n",
       "      <td>None</td>\n",
       "      <td>wsum_estimate</td>\n",
       "      <td>mcauroc</td>\n",
       "      <td>0.713069</td>\n",
       "      <td>0.001305</td>\n",
       "    </tr>\n",
       "  </tbody>\n",
       "</table>\n",
       "</div>"
      ],
      "text/plain": [
       "  groupby group source         method   metric     score        ci\n",
       "0    None  None   None  wsum_estimate    auroc  0.713571  0.001305\n",
       "1    None  None   None  wsum_estimate    auprc  0.738849  0.001305\n",
       "2    None  None   None  wsum_estimate  mcauroc  0.717372  0.001305\n",
       "3    None  None   None  wsum_estimate  mcauroc  0.731504  0.001305\n",
       "4    None  None   None  wsum_estimate  mcauroc  0.713069  0.001305"
      ]
     },
     "execution_count": 18,
     "metadata": {},
     "output_type": "execute_result"
    }
   ],
   "source": [
    "df.head()"
   ]
  },
  {
   "cell_type": "markdown",
   "id": "14098ba7",
   "metadata": {},
   "source": [
    "We can easily visualize the results in a scatterplot: "
   ]
  },
  {
   "cell_type": "markdown",
   "id": "b81a3456-81ce-4edd-843b-a7371139f2e5",
   "metadata": {},
   "source": [
    "結果は散布図で簡単に視覚化できる： "
   ]
  },
  {
   "cell_type": "code",
   "execution_count": 19,
   "id": "d8ad87dd-892a-4787-9cf5-5acd6b8077fb",
   "metadata": {
    "tags": []
   },
   "outputs": [
    {
     "data": {
      "image/png": "[encoded data removed]",
      "text/plain": [
       "<Figure size 500x500 with 1 Axes>"
      ]
     },
     "metadata": {},
     "output_type": "display_data"
    }
   ],
   "source": [
    "dc.plot_metrics_scatter(df, x='auroc', y='auprc')"
   ]
  },
  {
   "cell_type": "markdown",
   "id": "a9c647ca",
   "metadata": {},
   "source": [
    "It looks like `mlm` this time had worse performance than other methods like `ulm` at recovering\n",
    "perturbed regulators, this might be caused because there are many TFs that share too many targets.\n",
    "Whenever there are multiple sources (TFs) and they share a lot of targets we recommend to use `ulm`.\n",
    "On the other hand, when there are few sources and they are orthogonal (they share few targets), we recommend to use `mlm`.\n",
    "Since `consensus` remains one of the top performer methods we also recommend its use but at a higher computational cost and less interpretability.\n",
    "\n",
    "We can also visualise the distirbutions of the obtained metrics, for example `mcauroc`, `mcauprc`, `rank` and `nrank`:"
   ]
  },
  {
   "cell_type": "markdown",
   "id": "d056c7c7-6bcf-4fbc-b4e3-330df24e6348",
   "metadata": {},
   "source": [
    "今回のmlmは、ulmのような他の方法よりも摂動制御因子を回復させるパフォーマンスが悪かったようだ。これは、ターゲットを共有するTFが多すぎるためかもしれない。複数のソース（TF）があり、それらが多くのターゲットを共有している場合は、ulmを使うことを推奨する。一方、ソースが少なく、それらが直交している（ターゲットを共有しているものが少ない）場合は、mlmを使うことを推奨する。コンセンサスは依然としてトップ・パフォーマーの手法の1つであるため、その使用も推奨するが、計算コストが高くなり、解釈可能性が低くなる。\n",
    "\n",
    "mcauroc、mcauprc、rank、nrankなど、得られたメトリクスの分布を可視化することもできます："
   ]
  },
  {
   "cell_type": "code",
   "execution_count": 20,
   "id": "73690cc0-3a6f-4b66-a6d5-1338bc4ff394",
   "metadata": {},
   "outputs": [
    {
     "data": {
      "image/png": "[encoded data removed]",
      "text/plain": [
       "<Figure size 600x500 with 4 Axes>"
      ]
     },
     "metadata": {},
     "output_type": "display_data"
    }
   ],
   "source": [
    "fig, axes = plt.subplots(\n",
    "    2, 2, figsize=(6, 5),\n",
    "    sharex=True, tight_layout=True\n",
    ")\n",
    "\n",
    "dc.plot_metrics_boxplot(df, metric='mcauroc', ax=axes[0, 0])\n",
    "\n",
    "dc.plot_metrics_boxplot(df, metric='mcauprc', ax=axes[0, 1])\n",
    "\n",
    "dc.plot_metrics_boxplot(df, metric='rank', ax=axes[1, 0])\n",
    "\n",
    "dc.plot_metrics_boxplot(df, metric='nrank', ax=axes[1, 1])"
   ]
  },
  {
   "cell_type": "markdown",
   "id": "11d7c52e",
   "metadata": {},
   "source": [
    "### Multiple networks\n",
    "\n",
    "This pipeline can evaluate multiple networks at the same time. Now we will evaluate CollecTRI and\n",
    "[DoRothEA](https://saezlab.github.io/dorothea/), a literature-based network that we developed in the past.\n",
    "We will also add a randomized version as control."
   ]
  },
  {
   "cell_type": "markdown",
   "id": "51b4c1a8-9d88-4df5-b5da-f43afe121351",
   "metadata": {},
   "source": [
    "このパイプラインは複数のネットワークを同時に評価することができます。ここでは、CollecTRIと、過去に開発した文献ベースのネットワークであるDoRothEAを評価する。また、コントロールとしてランダム化バージョンも追加する。"
   ]
  },
  {
   "cell_type": "code",
   "execution_count": 21,
   "id": "ff43435f-e746-4b78-a99e-3f7bcb037933",
   "metadata": {},
   "outputs": [
    {
     "data": {
      "application/vnd.jupyter.widget-view+json": {
       "model_id": "8cc6944c8cf9421692f36d33f67069c1",
       "version_major": 2,
       "version_minor": 0
      },
      "text/plain": [
       "0.00B [00:00, ?B/s]"
      ]
     },
     "metadata": {},
     "output_type": "display_data"
    }
   ],
   "source": [
    "# Get dorothea\n",
    "dorothea = dc.get_dorothea(organism='human')"
   ]
  },
  {
   "cell_type": "code",
   "execution_count": 22,
   "id": "a34abe69",
   "metadata": {
    "tags": []
   },
   "outputs": [],
   "source": [
    "# Randomize nets\n",
    "ctri_rand = dc.shuffle_net(\n",
    "    collectri, target='target', weight='weight'\n",
    ").drop_duplicates(['source', 'target'])"
   ]
  },
  {
   "cell_type": "code",
   "execution_count": 23,
   "id": "8cc87364-558e-46dd-9373-d968a376bf7f",
   "metadata": {},
   "outputs": [],
   "source": [
    "doro_rand = dc.shuffle_net(\n",
    "    dorothea, target='target', weight='weight'\n",
    ").drop_duplicates(['source', 'target'])"
   ]
  },
  {
   "cell_type": "markdown",
   "id": "65089089",
   "metadata": {},
   "source": [
    "We can run the same pipeline but now using a dictionary of networks (and of extra arguments if needed)."
   ]
  },
  {
   "cell_type": "markdown",
   "id": "691abca6-6e97-47ec-8d82-415257fff3e6",
   "metadata": {},
   "source": [
    "同じパイプラインを実行できるが、今度はネットワークの辞書を使う（必要であれば追加の引数も）。"
   ]
  },
  {
   "cell_type": "code",
   "execution_count": 24,
   "id": "ee231442-8dd9-49cf-86e6-fc9a173151b4",
   "metadata": {},
   "outputs": [],
   "source": [
    "# Build dictionary of networks to test\n",
    "nets = {\n",
    "    'r_collectri': ctri_rand,\n",
    "    'r_dorothea': doro_rand,\n",
    "    'collectri': collectri,\n",
    "    'dorothea': dorothea,\n",
    "}"
   ]
  },
  {
   "cell_type": "code",
   "execution_count": 25,
   "id": "d572c1df-3127-48f3-8ae9-c47c8f0ba5a9",
   "metadata": {},
   "outputs": [],
   "source": [
    "# Example extra arguments\n",
    "decouple_kws = {\n",
    "    'r_collectri': {\n",
    "        'methods' : ['ulm', 'mlm'],\n",
    "        'consensus': True\n",
    "    },\n",
    "    'r_dorothea': {\n",
    "        'methods' : ['ulm', 'mlm'],\n",
    "        'consensus': True\n",
    "    },\n",
    "    'collectri': {\n",
    "        'methods' : ['ulm', 'mlm'],\n",
    "        'consensus': True\n",
    "    },\n",
    "    'dorothea': {\n",
    "        'methods' : ['ulm', 'mlm'],\n",
    "        'consensus': True\n",
    "    }\n",
    "}"
   ]
  },
  {
   "cell_type": "code",
   "execution_count": 26,
   "id": "029d1161",
   "metadata": {
    "tags": []
   },
   "outputs": [
    {
     "name": "stdout",
     "output_type": "stream",
     "text": [
      "Using r_collectri network...\n",
      "Extracting inputs...\n",
      "Formating net...\n",
      "Removed 109 experiments without sources in net.\n",
      "Running 279 experiments for 155 unique sources.\n",
      "Running methods...\n",
      "52 features of mat are empty, they will be removed.\n",
      "Running ulm on mat with 279 samples and 21933 targets for 762 sources.\n",
      "52 features of mat are empty, they will be removed.\n",
      "Running mlm on mat with 279 samples and 21933 targets for 762 sources.\n",
      "Calculating metrics...\n",
      "Computing metrics...\n",
      "Done.\n",
      "Using r_dorothea network...\n",
      "Extracting inputs...\n",
      "Formating net...\n",
      "Removed 175 experiments without sources in net.\n",
      "Running 213 experiments for 104 unique sources.\n",
      "Running methods...\n",
      "55 features of mat are empty, they will be removed.\n",
      "Running ulm on mat with 213 samples and 21930 targets for 295 sources.\n",
      "55 features of mat are empty, they will be removed.\n",
      "Running mlm on mat with 213 samples and 21930 targets for 295 sources.\n",
      "Calculating metrics...\n",
      "Computing metrics...\n",
      "Done.\n",
      "Using collectri network...\n",
      "Extracting inputs...\n",
      "Formating net...\n",
      "Removed 109 experiments without sources in net.\n",
      "Running 279 experiments for 155 unique sources.\n",
      "Running methods...\n",
      "52 features of mat are empty, they will be removed.\n",
      "Running ulm on mat with 279 samples and 21933 targets for 766 sources.\n",
      "52 features of mat are empty, they will be removed.\n",
      "Running mlm on mat with 279 samples and 21933 targets for 766 sources.\n",
      "Calculating metrics...\n",
      "Computing metrics...\n",
      "Done.\n",
      "Using dorothea network...\n",
      "Extracting inputs...\n",
      "Formating net...\n",
      "Removed 174 experiments without sources in net.\n",
      "Running 214 experiments for 105 unique sources.\n",
      "Running methods...\n",
      "55 features of mat are empty, they will be removed.\n",
      "Running ulm on mat with 214 samples and 21930 targets for 297 sources.\n",
      "55 features of mat are empty, they will be removed.\n",
      "Running mlm on mat with 214 samples and 21930 targets for 297 sources.\n",
      "Calculating metrics...\n",
      "Computing metrics...\n",
      "Done.\n"
     ]
    }
   ],
   "source": [
    "# Run benchmark pipeline\n",
    "df = dc.benchmark(\n",
    "    mat, obs, nets, perturb='TF', sign=-1, verbose=True,\n",
    "    decouple_kws=decouple_kws\n",
    ")"
   ]
  },
  {
   "cell_type": "markdown",
   "id": "1c37c44e",
   "metadata": {},
   "source": [
    "Like before we can try to visualize the results in a scatterplot, this time grouping by the network used:"
   ]
  },
  {
   "cell_type": "markdown",
   "id": "6d97aed9-c646-4c71-af0d-d5f960ef1c4b",
   "metadata": {},
   "source": [
    "前回同様、散布図で結果を視覚化してみよう。今回は使用したネットワークでグループ化した："
   ]
  },
  {
   "cell_type": "code",
   "execution_count": 27,
   "id": "adb64864-b4b8-49a3-8f78-d170cf6ae050",
   "metadata": {
    "tags": []
   },
   "outputs": [
    {
     "data": {
      "image/png": "[encoded data removed]",
      "text/plain": [
       "<Figure size 500x500 with 1 Axes>"
      ]
     },
     "metadata": {},
     "output_type": "display_data"
    }
   ],
   "source": [
    "dc.plot_metrics_scatter(\n",
    "    df, groupby='net', x='mcauroc', y='mcauprc'\n",
    ")"
   ]
  },
  {
   "cell_type": "markdown",
   "id": "68d852c7",
   "metadata": {},
   "source": [
    "Since this plot is too crowded, we can plot it again separating the methods by columns:"
   ]
  },
  {
   "cell_type": "markdown",
   "id": "7c0f8a55-0df8-480f-8a4f-a857e653b783",
   "metadata": {},
   "source": [
    "このプロットは混雑しすぎているので、メソッドを列で区切って再度プロットしてみよう："
   ]
  },
  {
   "cell_type": "code",
   "execution_count": 28,
   "id": "1a446ffd",
   "metadata": {
    "tags": []
   },
   "outputs": [
    {
     "data": {
      "image/png": "[encoded data removed]",
      "text/plain": [
       "<Figure size 700x200 with 4 Axes>"
      ]
     },
     "metadata": {},
     "output_type": "display_data"
    }
   ],
   "source": [
    "dc.plot_metrics_scatter_cols(\n",
    "    df, col='method', x='auroc', y='auprc',\n",
    "    figsize=(7, 2), groupby='net'\n",
    ")"
   ]
  },
  {
   "cell_type": "markdown",
   "id": "9a71056c",
   "metadata": {},
   "source": [
    "Or by selecting only one of the methods, in this case `consensus`:"
   ]
  },
  {
   "cell_type": "markdown",
   "id": "3d48bc31-7df8-4ef6-997c-0f86c4f079b4",
   "metadata": {},
   "source": [
    "あるいは、いずれかの方法（この場合はコンセンサス）のみを選択することによっても："
   ]
  },
  {
   "cell_type": "code",
   "execution_count": 29,
   "id": "b1851c3e",
   "metadata": {
    "tags": []
   },
   "outputs": [
    {
     "data": {
      "image/png": "[encoded data removed]",
      "text/plain": [
       "<Figure size 200x200 with 1 Axes>"
      ]
     },
     "metadata": {},
     "output_type": "display_data"
    }
   ],
   "source": [
    "dc.plot_metrics_scatter(\n",
    "    df[df['method'] == 'consensus_estimate'],\n",
    "    groupby='net', x='mcauroc', y='mcauprc',\n",
    "    show_text=False, figsize=(2, 2)\n",
    ")"
   ]
  },
  {
   "cell_type": "markdown",
   "id": "16dc3380",
   "metadata": {},
   "source": [
    "As expected, the random network has a performance close to 0.5 while the rest show higher predictive performance. As previously reported, the collectri network has better performance than dorothea.\n",
    "\n",
    "If needed, we can also plot the distributions of the Monte-Carlo metrics, now grouped by network:"
   ]
  },
  {
   "cell_type": "markdown",
   "id": "fb9e460e-7661-42b3-b5d7-4e415c65f427",
   "metadata": {},
   "source": [
    "予想通り、ランダムネットワークは0.5に近い性能を示したが、その他のネットワークはより高い予測性能を示した。以前に報告したように、collectriネットワークはdorotheaよりも優れた性能を持つ。\n",
    "\n",
    "必要であれば、モンテカルロメトリクスの分布をプロットすることもできる："
   ]
  },
  {
   "cell_type": "code",
   "execution_count": 30,
   "id": "36aedb27",
   "metadata": {
    "tags": []
   },
   "outputs": [
    {
     "data": {
      "image/png": "[encoded data removed]",
      "text/plain": [
       "<Figure size 600x500 with 4 Axes>"
      ]
     },
     "metadata": {},
     "output_type": "display_data"
    }
   ],
   "source": [
    "fig, axes = plt.subplots(\n",
    "    2, 2, figsize=(6, 5), sharex=True, tight_layout=True\n",
    ")\n",
    "\n",
    "dc.plot_metrics_boxplot(df, metric='mcauroc', groupby='net', ax=axes[0, 0], legend=False)\n",
    "\n",
    "dc.plot_metrics_boxplot(df, metric='mcauprc', groupby='net', ax=axes[0, 1], legend=True)\n",
    "\n",
    "dc.plot_metrics_boxplot(df, metric='rank', groupby='net', ax=axes[1, 0], legend=False)\n",
    "\n",
    "dc.plot_metrics_boxplot(df, metric='nrank', groupby='net', ax=axes[1, 1])"
   ]
  },
  {
   "cell_type": "markdown",
   "id": "8ccaa001",
   "metadata": {},
   "source": [
    "### By source\n",
    "\n",
    "The benchmark pipeline also allows to test the performance of individual regulators using the argument `by='source'`. For simplicity let us just use the best performing network:"
   ]
  },
  {
   "cell_type": "markdown",
   "id": "ca6d36bc-556c-4117-b9d7-cee6320bc7e1",
   "metadata": {},
   "source": [
    "ベンチマークパイプラインでは、引数by='source'を使用して、個々のレギュレータのパフォーマンスをテストすることもできます。簡単のため、最も性能の良いネットワークだけを使用してみましょう："
   ]
  },
  {
   "cell_type": "code",
   "execution_count": 31,
   "id": "8f77f542-a512-4cd8-b6c9-7ccf72435b13",
   "metadata": {},
   "outputs": [],
   "source": [
    "# Example on how to set up decouple arguments\n",
    "decouple_kws={\n",
    "    'methods' : ['ulm', 'mlm'],\n",
    "    'consensus': True,\n",
    "}"
   ]
  },
  {
   "cell_type": "code",
   "execution_count": 32,
   "id": "389c20fb",
   "metadata": {
    "tags": []
   },
   "outputs": [
    {
     "name": "stdout",
     "output_type": "stream",
     "text": [
      "Extracting inputs...\n",
      "Formating net...\n",
      "Removed 109 experiments without sources in net.\n",
      "Running 279 experiments for 155 unique sources.\n",
      "Running methods...\n",
      "52 features of mat are empty, they will be removed.\n",
      "Running ulm on mat with 279 samples and 21933 targets for 766 sources.\n",
      "52 features of mat are empty, they will be removed.\n",
      "Running mlm on mat with 279 samples and 21933 targets for 766 sources.\n",
      "Calculating metrics...\n",
      "Computing metrics...\n",
      "Done.\n"
     ]
    }
   ],
   "source": [
    "# Run benchmark pipeline\n",
    "df = dc.benchmark(\n",
    "    mat, obs, collectri,\n",
    "    perturb='TF', sign=-1, by='source', verbose=True,\n",
    "    decouple_kws=decouple_kws\n",
    ")"
   ]
  },
  {
   "cell_type": "markdown",
   "id": "21a76e8b",
   "metadata": {},
   "source": [
    "We can plot the results with:"
   ]
  },
  {
   "cell_type": "markdown",
   "id": "f75d29c7-b2c5-474b-bd91-8a2ff769ba42",
   "metadata": {},
   "source": [
    "その結果をプロットすることができる："
   ]
  },
  {
   "cell_type": "code",
   "execution_count": 33,
   "id": "d3ff2d43",
   "metadata": {
    "tags": []
   },
   "outputs": [
    {
     "data": {
      "image/png": "[encoded data removed]",
      "text/plain": [
       "<Figure size 600x500 with 12 Axes>"
      ]
     },
     "metadata": {},
     "output_type": "display_data"
    }
   ],
   "source": [
    "dc.plot_metrics_scatter_cols(\n",
    "    df, col='source',\n",
    "    figsize=(6, 5), groupby='method'\n",
    ")"
   ]
  },
  {
   "cell_type": "markdown",
   "id": "6fc4336d",
   "metadata": {},
   "source": [
    "It looks like we get good predictions for HIF1A, RELA and SOX2 among others. On the other side, we worse predictions for STAT1."
   ]
  },
  {
   "cell_type": "markdown",
   "id": "84eba649-b0c4-4183-9fc7-ce72d83c1f93",
   "metadata": {},
   "source": [
    "HIF1A、RELA、SOX2などについては良い予測が得られたようだ。一方、STAT1の予測は悪かった。"
   ]
  },
  {
   "cell_type": "markdown",
   "id": "3b3e1bbe",
   "metadata": {},
   "source": [
    "### By meta-data groups\n",
    "\n",
    "The benchmarking pipeline can also be run by grouping the input experiments using the `groupby` argument. Multiple groups can be selected at the same time but for simplicity, we will just test which knockout method seems to perform the best inhibitions:"
   ]
  },
  {
   "cell_type": "markdown",
   "id": "1bc2737b-e5d0-4597-b07e-2a6aed93511a",
   "metadata": {},
   "source": [
    "ベンチマークパイプラインは、groupby引数を用いて入力実験をグループ化して実行することもできる。複数のグループを同時に選択することもできるが、ここでは簡単のため、どのノックアウト法が最も抑制効果が高いかをテストするだけにする："
   ]
  },
  {
   "cell_type": "code",
   "execution_count": 37,
   "id": "6e7b0435-e57b-4452-8e1a-a2d7de2a9920",
   "metadata": {},
   "outputs": [],
   "source": [
    "# Example on how to set up decouple arguments\n",
    "decouple_kws = {\n",
    "    'methods': ['ulm', 'mlm'],\n",
    "    'consensus': True,\n",
    "}"
   ]
  },
  {
   "cell_type": "code",
   "execution_count": 35,
   "id": "0ad8a428",
   "metadata": {
    "tags": []
   },
   "outputs": [
    {
     "name": "stdout",
     "output_type": "stream",
     "text": [
      "Extracting inputs...\n",
      "Formating net...\n",
      "Removed 109 experiments without sources in net.\n",
      "Running 279 experiments for 155 unique sources.\n",
      "Running methods...\n",
      "52 features of mat are empty, they will be removed.\n",
      "Running ulm on mat with 279 samples and 21933 targets for 766 sources.\n",
      "52 features of mat are empty, they will be removed.\n",
      "Running mlm on mat with 279 samples and 21933 targets for 766 sources.\n",
      "Calculating metrics...\n",
      "Computing metrics for groupby Knock.Method...\n",
      "Done.\n"
     ]
    }
   ],
   "source": [
    "# Run benchmark pipeline\n",
    "df = dc.benchmark(\n",
    "    mat, obs, collectri,\n",
    "    perturb='TF', sign=-1,\n",
    "    groupby='Knock.Method', verbose=True,\n",
    "    decouple_kws=decouple_kws\n",
    ")"
   ]
  },
  {
   "cell_type": "markdown",
   "id": "82448007",
   "metadata": {},
   "source": [
    "Again, we can visualize the results in a collection of scatterplots:"
   ]
  },
  {
   "cell_type": "markdown",
   "id": "9fef9727-49c6-49f4-b11c-cc1b2d70468a",
   "metadata": {},
   "source": [
    "ここでもまた、散布図の集まりで結果を視覚化することができる："
   ]
  },
  {
   "cell_type": "code",
   "execution_count": 36,
   "id": "80030b93",
   "metadata": {
    "tags": []
   },
   "outputs": [
    {
     "data": {
      "image/png": "[encoded data removed]",
      "text/plain": [
       "<Figure size 700x200 with 4 Axes>"
      ]
     },
     "metadata": {},
     "output_type": "display_data"
    }
   ],
   "source": [
    "dc.plot_metrics_scatter_cols(\n",
    "    df, col='method',\n",
    "    figsize=(7, 2), groupby='group'\n",
    ")"
   ]
  },
  {
   "cell_type": "markdown",
   "id": "6f2f04d5",
   "metadata": {},
   "source": [
    "From our limited data-set, we can see that apparently shRNA works better than other knockout protocols."
   ]
  },
  {
   "cell_type": "markdown",
   "id": "2a42f467-49f0-48bf-83c1-8a62d9b89a7e",
   "metadata": {},
   "source": [
    "私たちの限られたデータセットから、shRNAは他のノックアウトプロトコールよりもうまく機能することがわかる。"
   ]
  },
  {
   "cell_type": "code",
   "execution_count": null,
   "id": "2dc3f7f1-29f5-46e7-8e60-332ec26df7fc",
   "metadata": {},
   "outputs": [],
   "source": []
  }
 ],
 "metadata": {
  "kernelspec": {
   "display_name": "py_scvi",
   "language": "python",
   "name": "py_scvi"
  },
  "language_info": {
   "codemirror_mode": {
    "name": "ipython",
    "version": 3
   },
   "file_extension": ".py",
   "mimetype": "text/x-python",
   "name": "python",
   "nbconvert_exporter": "python",
   "pygments_lexer": "ipython3",
   "version": "3.10.14"
  }
 },
 "nbformat": 4,
 "nbformat_minor": 5
}
