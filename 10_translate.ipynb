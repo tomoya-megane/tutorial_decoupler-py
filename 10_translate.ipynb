{
 "cells": [
  {
   "cell_type": "markdown",
   "id": "b0ef3cdd",
   "metadata": {},
   "source": [
    "# Conversion to other organisms\n",
    "\n",
    "Most of the prior knowledge stored inside `Omnipath` is derived from human data, therefore they use gene names. Despite this, using homology we can convert gene names to other organisms.\n",
    "\n",
    "To showcase how to do it inside `decoupler`, we will load the `MSigDB` database and convert it into gene symbols for mouse and fly."
   ]
  },
  {
   "cell_type": "markdown",
   "id": "128f3176-4a19-4378-bb87-07dac12f0b35",
   "metadata": {},
   "source": [
    "Omnipathに保存されている事前知識のほとんどはヒトのデータに由来しており、そのため遺伝子名を使用している。しかし、相同性を利用すれば、遺伝子名を他の生物に変換することができる。\n",
    "\n",
    "ここでは、MSigDBデータベースを読み込み、マウスとハエの遺伝子記号に変換する。"
   ]
  },
  {
   "cell_type": "code",
   "execution_count": 1,
   "id": "4b3d05a4-7fb8-4e43-b07d-2f85692937fb",
   "metadata": {},
   "outputs": [],
   "source": [
    "import decoupler as dc"
   ]
  },
  {
   "cell_type": "code",
   "execution_count": 2,
   "id": "4b2fa761-84e5-40e4-a82e-4a02988c252a",
   "metadata": {},
   "outputs": [],
   "source": [
    "msigdb = dc.get_resource('MSigDB')"
   ]
  },
  {
   "cell_type": "code",
   "execution_count": 3,
   "id": "f7d87e7d",
   "metadata": {},
   "outputs": [
    {
     "data": {
      "text/html": [
       "<div>\n",
       "<style scoped>\n",
       "    .dataframe tbody tr th:only-of-type {\n",
       "        vertical-align: middle;\n",
       "    }\n",
       "\n",
       "    .dataframe tbody tr th {\n",
       "        vertical-align: top;\n",
       "    }\n",
       "\n",
       "    .dataframe thead th {\n",
       "        text-align: right;\n",
       "    }\n",
       "</style>\n",
       "<table border=\"1\" class=\"dataframe\">\n",
       "  <thead>\n",
       "    <tr style=\"text-align: right;\">\n",
       "      <th></th>\n",
       "      <th>genesymbol</th>\n",
       "      <th>collection</th>\n",
       "      <th>geneset</th>\n",
       "    </tr>\n",
       "  </thead>\n",
       "  <tbody>\n",
       "    <tr>\n",
       "      <th>0</th>\n",
       "      <td>MAFF</td>\n",
       "      <td>chemical_and_genetic_perturbations</td>\n",
       "      <td>BOYAULT_LIVER_CANCER_SUBCLASS_G56_DN</td>\n",
       "    </tr>\n",
       "    <tr>\n",
       "      <th>1</th>\n",
       "      <td>MAFF</td>\n",
       "      <td>chemical_and_genetic_perturbations</td>\n",
       "      <td>ELVIDGE_HYPOXIA_UP</td>\n",
       "    </tr>\n",
       "    <tr>\n",
       "      <th>2</th>\n",
       "      <td>MAFF</td>\n",
       "      <td>chemical_and_genetic_perturbations</td>\n",
       "      <td>NUYTTEN_NIPP1_TARGETS_DN</td>\n",
       "    </tr>\n",
       "    <tr>\n",
       "      <th>3</th>\n",
       "      <td>MAFF</td>\n",
       "      <td>immunesigdb</td>\n",
       "      <td>GSE17721_POLYIC_VS_GARDIQUIMOD_4H_BMDC_DN</td>\n",
       "    </tr>\n",
       "    <tr>\n",
       "      <th>4</th>\n",
       "      <td>MAFF</td>\n",
       "      <td>chemical_and_genetic_perturbations</td>\n",
       "      <td>SCHAEFFER_PROSTATE_DEVELOPMENT_12HR_UP</td>\n",
       "    </tr>\n",
       "  </tbody>\n",
       "</table>\n",
       "</div>"
      ],
      "text/plain": [
       "  genesymbol                          collection  \\\n",
       "0       MAFF  chemical_and_genetic_perturbations   \n",
       "1       MAFF  chemical_and_genetic_perturbations   \n",
       "2       MAFF  chemical_and_genetic_perturbations   \n",
       "3       MAFF                         immunesigdb   \n",
       "4       MAFF  chemical_and_genetic_perturbations   \n",
       "\n",
       "                                     geneset  \n",
       "0       BOYAULT_LIVER_CANCER_SUBCLASS_G56_DN  \n",
       "1                         ELVIDGE_HYPOXIA_UP  \n",
       "2                   NUYTTEN_NIPP1_TARGETS_DN  \n",
       "3  GSE17721_POLYIC_VS_GARDIQUIMOD_4H_BMDC_DN  \n",
       "4     SCHAEFFER_PROSTATE_DEVELOPMENT_12HR_UP  "
      ]
     },
     "execution_count": 3,
     "metadata": {},
     "output_type": "execute_result"
    }
   ],
   "source": [
    "msigdb.head()"
   ]
  },
  {
   "cell_type": "markdown",
   "id": "0d101d50",
   "metadata": {},
   "source": [
    "For this example we will filter by the `hallmark` gene sets collection:"
   ]
  },
  {
   "cell_type": "markdown",
   "id": "8fc44ee2-90de-4846-8cdf-d24acba06567",
   "metadata": {},
   "source": [
    "この例では、ホールマーク遺伝子セットコレクションでフィルターをかける："
   ]
  },
  {
   "cell_type": "code",
   "execution_count": 4,
   "id": "34f88133-6e72-42eb-bf48-04aa33d1a3fa",
   "metadata": {},
   "outputs": [],
   "source": [
    "# Filter by hallmark\n",
    "msigdb = msigdb[msigdb['collection'] == 'hallmark']"
   ]
  },
  {
   "cell_type": "code",
   "execution_count": 5,
   "id": "d35a824a-d1b4-4a71-bae7-7ab58991fff1",
   "metadata": {},
   "outputs": [],
   "source": [
    "# Remove duplicated entries\n",
    "msigdb = msigdb[~msigdb.duplicated(['geneset', 'genesymbol'])]"
   ]
  },
  {
   "cell_type": "code",
   "execution_count": 6,
   "id": "f245fda2",
   "metadata": {},
   "outputs": [
    {
     "data": {
      "text/html": [
       "<div>\n",
       "<style scoped>\n",
       "    .dataframe tbody tr th:only-of-type {\n",
       "        vertical-align: middle;\n",
       "    }\n",
       "\n",
       "    .dataframe tbody tr th {\n",
       "        vertical-align: top;\n",
       "    }\n",
       "\n",
       "    .dataframe thead th {\n",
       "        text-align: right;\n",
       "    }\n",
       "</style>\n",
       "<table border=\"1\" class=\"dataframe\">\n",
       "  <thead>\n",
       "    <tr style=\"text-align: right;\">\n",
       "      <th></th>\n",
       "      <th>genesymbol</th>\n",
       "      <th>collection</th>\n",
       "      <th>geneset</th>\n",
       "    </tr>\n",
       "  </thead>\n",
       "  <tbody>\n",
       "    <tr>\n",
       "      <th>233</th>\n",
       "      <td>MAFF</td>\n",
       "      <td>hallmark</td>\n",
       "      <td>HALLMARK_IL2_STAT5_SIGNALING</td>\n",
       "    </tr>\n",
       "    <tr>\n",
       "      <th>250</th>\n",
       "      <td>MAFF</td>\n",
       "      <td>hallmark</td>\n",
       "      <td>HALLMARK_COAGULATION</td>\n",
       "    </tr>\n",
       "    <tr>\n",
       "      <th>270</th>\n",
       "      <td>MAFF</td>\n",
       "      <td>hallmark</td>\n",
       "      <td>HALLMARK_HYPOXIA</td>\n",
       "    </tr>\n",
       "    <tr>\n",
       "      <th>373</th>\n",
       "      <td>MAFF</td>\n",
       "      <td>hallmark</td>\n",
       "      <td>HALLMARK_TNFA_SIGNALING_VIA_NFKB</td>\n",
       "    </tr>\n",
       "    <tr>\n",
       "      <th>377</th>\n",
       "      <td>MAFF</td>\n",
       "      <td>hallmark</td>\n",
       "      <td>HALLMARK_COMPLEMENT</td>\n",
       "    </tr>\n",
       "  </tbody>\n",
       "</table>\n",
       "</div>"
      ],
      "text/plain": [
       "    genesymbol collection                           geneset\n",
       "233       MAFF   hallmark      HALLMARK_IL2_STAT5_SIGNALING\n",
       "250       MAFF   hallmark              HALLMARK_COAGULATION\n",
       "270       MAFF   hallmark                  HALLMARK_HYPOXIA\n",
       "373       MAFF   hallmark  HALLMARK_TNFA_SIGNALING_VIA_NFKB\n",
       "377       MAFF   hallmark               HALLMARK_COMPLEMENT"
      ]
     },
     "execution_count": 6,
     "metadata": {},
     "output_type": "execute_result"
    }
   ],
   "source": [
    "msigdb.head()"
   ]
  },
  {
   "cell_type": "markdown",
   "id": "f251ac85",
   "metadata": {},
   "source": [
    "Then, we can easily transform the obtained resource into mouse genes. Organisms can be defined by their common name, latin name or [NCBI Taxonomy identifier](https://www.ncbi.nlm.nih.gov/taxonomy).\n",
    "    \n",
    "Translating to an organism for the first time might take a while (~ 15 minutes). Since the data is stored in cache, the next times is going to run faster. If you need to reset the cache, run `rm -r .pypath/cache/`."
   ]
  },
  {
   "cell_type": "markdown",
   "id": "8c1ba8d4-c364-48ff-8c82-abbbbc06a5aa",
   "metadata": {},
   "source": [
    "そして、得られたリソースを簡単にマウス遺伝子に変換することができる。生物は一般名、ラテン語名、NCBI分類学識別子で定義できる。\n",
    "\n",
    "初回の生物への変換には時間がかかるかもしれない（～15分）。データはキャッシュに保存されるため、次回以降はより高速に実行されます。キャッシュをリセットする必要がある場合は、rm -r .pypath/cache/."
   ]
  },
  {
   "cell_type": "code",
   "execution_count": 7,
   "id": "86107a35-ff62-4c74-bfb3-c96920ebe6d9",
   "metadata": {},
   "outputs": [
    {
     "name": "stderr",
     "output_type": "stream",
     "text": [
      "/Users/tomoya/mambaforge/envs/py_scvi/lib/python3.10/site-packages/paramiko/pkey.py:100: CryptographyDeprecationWarning: TripleDES has been moved to cryptography.hazmat.decrepit.ciphers.algorithms.TripleDES and will be removed from this module in 48.0.0.\n",
      "  \"cipher\": algorithms.TripleDES,\n",
      "/Users/tomoya/mambaforge/envs/py_scvi/lib/python3.10/site-packages/paramiko/transport.py:259: CryptographyDeprecationWarning: TripleDES has been moved to cryptography.hazmat.decrepit.ciphers.algorithms.TripleDES and will be removed from this module in 48.0.0.\n",
      "  \"class\": algorithms.TripleDES,\n"
     ]
    }
   ],
   "source": [
    "# Translate targets\n",
    "mouse_msigdb = dc.translate_net(\n",
    "    msigdb,\n",
    "    target_organism='mouse',\n",
    "    unique_by=('geneset', 'genesymbol')\n",
    ")"
   ]
  },
  {
   "cell_type": "code",
   "execution_count": 8,
   "id": "9f5590e8",
   "metadata": {},
   "outputs": [
    {
     "data": {
      "text/html": [
       "<div>\n",
       "<style scoped>\n",
       "    .dataframe tbody tr th:only-of-type {\n",
       "        vertical-align: middle;\n",
       "    }\n",
       "\n",
       "    .dataframe tbody tr th {\n",
       "        vertical-align: top;\n",
       "    }\n",
       "\n",
       "    .dataframe thead th {\n",
       "        text-align: right;\n",
       "    }\n",
       "</style>\n",
       "<table border=\"1\" class=\"dataframe\">\n",
       "  <thead>\n",
       "    <tr style=\"text-align: right;\">\n",
       "      <th></th>\n",
       "      <th>genesymbol</th>\n",
       "      <th>collection</th>\n",
       "      <th>geneset</th>\n",
       "    </tr>\n",
       "  </thead>\n",
       "  <tbody>\n",
       "    <tr>\n",
       "      <th>0</th>\n",
       "      <td>Maff</td>\n",
       "      <td>hallmark</td>\n",
       "      <td>HALLMARK_IL2_STAT5_SIGNALING</td>\n",
       "    </tr>\n",
       "    <tr>\n",
       "      <th>1</th>\n",
       "      <td>Maff</td>\n",
       "      <td>hallmark</td>\n",
       "      <td>HALLMARK_COAGULATION</td>\n",
       "    </tr>\n",
       "    <tr>\n",
       "      <th>2</th>\n",
       "      <td>Maff</td>\n",
       "      <td>hallmark</td>\n",
       "      <td>HALLMARK_HYPOXIA</td>\n",
       "    </tr>\n",
       "    <tr>\n",
       "      <th>3</th>\n",
       "      <td>Maff</td>\n",
       "      <td>hallmark</td>\n",
       "      <td>HALLMARK_TNFA_SIGNALING_VIA_NFKB</td>\n",
       "    </tr>\n",
       "    <tr>\n",
       "      <th>4</th>\n",
       "      <td>Maff</td>\n",
       "      <td>hallmark</td>\n",
       "      <td>HALLMARK_COMPLEMENT</td>\n",
       "    </tr>\n",
       "  </tbody>\n",
       "</table>\n",
       "</div>"
      ],
      "text/plain": [
       "  genesymbol collection                           geneset\n",
       "0       Maff   hallmark      HALLMARK_IL2_STAT5_SIGNALING\n",
       "1       Maff   hallmark              HALLMARK_COAGULATION\n",
       "2       Maff   hallmark                  HALLMARK_HYPOXIA\n",
       "3       Maff   hallmark  HALLMARK_TNFA_SIGNALING_VIA_NFKB\n",
       "4       Maff   hallmark               HALLMARK_COMPLEMENT"
      ]
     },
     "execution_count": 8,
     "metadata": {},
     "output_type": "execute_result"
    }
   ],
   "source": [
    "mouse_msigdb.head()"
   ]
  },
  {
   "cell_type": "markdown",
   "id": "9eba7e39",
   "metadata": {},
   "source": [
    "Note that when performing homology convertion we might gain or lose some genes from one organism to another.\n",
    "\n",
    "Let us try the fruit fly (`7227`) now:"
   ]
  },
  {
   "cell_type": "markdown",
   "id": "d606ed4c-dbdc-4c6d-a28c-71d305a340d8",
   "metadata": {},
   "source": [
    "相同性変換を行う場合、ある生物から別の生物へ遺伝子を得たり失ったりする可能性があることに注意。\n",
    "\n",
    "では、ミバエ(7227)を試してみよう："
   ]
  },
  {
   "cell_type": "code",
   "execution_count": 9,
   "id": "cb639e96",
   "metadata": {},
   "outputs": [],
   "source": [
    "# Translate targets\n",
    "fly_msigdb = dc.translate_net(\n",
    "    msigdb, target_organism=7227,\n",
    "    unique_by=('genesymbol', 'geneset')\n",
    ")"
   ]
  },
  {
   "cell_type": "code",
   "execution_count": 10,
   "id": "a0a86cd8-f3ae-448d-99e2-cdca73907395",
   "metadata": {},
   "outputs": [
    {
     "data": {
      "text/html": [
       "<div>\n",
       "<style scoped>\n",
       "    .dataframe tbody tr th:only-of-type {\n",
       "        vertical-align: middle;\n",
       "    }\n",
       "\n",
       "    .dataframe tbody tr th {\n",
       "        vertical-align: top;\n",
       "    }\n",
       "\n",
       "    .dataframe thead th {\n",
       "        text-align: right;\n",
       "    }\n",
       "</style>\n",
       "<table border=\"1\" class=\"dataframe\">\n",
       "  <thead>\n",
       "    <tr style=\"text-align: right;\">\n",
       "      <th></th>\n",
       "      <th>genesymbol</th>\n",
       "      <th>collection</th>\n",
       "      <th>geneset</th>\n",
       "    </tr>\n",
       "  </thead>\n",
       "  <tbody>\n",
       "    <tr>\n",
       "      <th>0</th>\n",
       "      <td>betaTub85D</td>\n",
       "      <td>hallmark</td>\n",
       "      <td>HALLMARK_UNFOLDED_PROTEIN_RESPONSE</td>\n",
       "    </tr>\n",
       "    <tr>\n",
       "      <th>1</th>\n",
       "      <td>betaTub85D</td>\n",
       "      <td>hallmark</td>\n",
       "      <td>HALLMARK_TNFA_SIGNALING_VIA_NFKB</td>\n",
       "    </tr>\n",
       "    <tr>\n",
       "      <th>2</th>\n",
       "      <td>Rel</td>\n",
       "      <td>hallmark</td>\n",
       "      <td>HALLMARK_INTERFERON_GAMMA_RESPONSE</td>\n",
       "    </tr>\n",
       "    <tr>\n",
       "      <th>3</th>\n",
       "      <td>Rel</td>\n",
       "      <td>hallmark</td>\n",
       "      <td>HALLMARK_UV_RESPONSE_DN</td>\n",
       "    </tr>\n",
       "    <tr>\n",
       "      <th>4</th>\n",
       "      <td>Rel</td>\n",
       "      <td>hallmark</td>\n",
       "      <td>HALLMARK_TNFA_SIGNALING_VIA_NFKB</td>\n",
       "    </tr>\n",
       "  </tbody>\n",
       "</table>\n",
       "</div>"
      ],
      "text/plain": [
       "   genesymbol collection                             geneset\n",
       "0  betaTub85D   hallmark  HALLMARK_UNFOLDED_PROTEIN_RESPONSE\n",
       "1  betaTub85D   hallmark    HALLMARK_TNFA_SIGNALING_VIA_NFKB\n",
       "2         Rel   hallmark  HALLMARK_INTERFERON_GAMMA_RESPONSE\n",
       "3         Rel   hallmark             HALLMARK_UV_RESPONSE_DN\n",
       "4         Rel   hallmark    HALLMARK_TNFA_SIGNALING_VIA_NFKB"
      ]
     },
     "execution_count": 10,
     "metadata": {},
     "output_type": "execute_result"
    }
   ],
   "source": [
    "fly_msigdb.head()"
   ]
  },
  {
   "cell_type": "markdown",
   "id": "d1b57699",
   "metadata": {},
   "source": [
    "The `translate_net` function provides finer control, but in most cases it's enough to pass the name of the desired organism to the functions that download the data:"
   ]
  },
  {
   "cell_type": "markdown",
   "id": "c0b4270a-305b-4501-a423-bec7ac18cceb",
   "metadata": {},
   "source": [
    "translate_net関数を使えばより細かい制御が可能だが、ほとんどの場合、データをダウンロードする関数に目的の生物の名前を渡すだけで十分だ："
   ]
  },
  {
   "cell_type": "code",
   "execution_count": 17,
   "id": "e0aa9113",
   "metadata": {},
   "outputs": [],
   "source": [
    "spw = dc.get_resource('SignaLink_pathway', organism='rat')"
   ]
  },
  {
   "cell_type": "code",
   "execution_count": 18,
   "id": "39245503-3871-4e65-9408-b88959d7741d",
   "metadata": {},
   "outputs": [
    {
     "data": {
      "text/html": [
       "<div>\n",
       "<style scoped>\n",
       "    .dataframe tbody tr th:only-of-type {\n",
       "        vertical-align: middle;\n",
       "    }\n",
       "\n",
       "    .dataframe tbody tr th {\n",
       "        vertical-align: top;\n",
       "    }\n",
       "\n",
       "    .dataframe thead th {\n",
       "        text-align: right;\n",
       "    }\n",
       "</style>\n",
       "<table border=\"1\" class=\"dataframe\">\n",
       "  <thead>\n",
       "    <tr style=\"text-align: right;\">\n",
       "      <th></th>\n",
       "      <th>genesymbol</th>\n",
       "      <th>pathway</th>\n",
       "    </tr>\n",
       "  </thead>\n",
       "  <tbody>\n",
       "    <tr>\n",
       "      <th>0</th>\n",
       "      <td>&lt;NA&gt;</td>\n",
       "      <td>T-cell receptor</td>\n",
       "    </tr>\n",
       "    <tr>\n",
       "      <th>1</th>\n",
       "      <td>&lt;NA&gt;</td>\n",
       "      <td>Receptor tyrosine kinase</td>\n",
       "    </tr>\n",
       "    <tr>\n",
       "      <th>2</th>\n",
       "      <td>&lt;NA&gt;</td>\n",
       "      <td>T-cell receptor</td>\n",
       "    </tr>\n",
       "    <tr>\n",
       "      <th>3</th>\n",
       "      <td>Tab2</td>\n",
       "      <td>Toll-like receptor</td>\n",
       "    </tr>\n",
       "    <tr>\n",
       "      <th>4</th>\n",
       "      <td>Tab2</td>\n",
       "      <td>Innate immune pathways</td>\n",
       "    </tr>\n",
       "  </tbody>\n",
       "</table>\n",
       "</div>"
      ],
      "text/plain": [
       "  genesymbol                   pathway\n",
       "0       <NA>           T-cell receptor\n",
       "1       <NA>  Receptor tyrosine kinase\n",
       "2       <NA>           T-cell receptor\n",
       "3       Tab2        Toll-like receptor\n",
       "4       Tab2    Innate immune pathways"
      ]
     },
     "execution_count": 18,
     "metadata": {},
     "output_type": "execute_result"
    }
   ],
   "source": [
    "spw.head()"
   ]
  },
  {
   "cell_type": "code",
   "execution_count": 15,
   "id": "d6636dd2-f611-42ed-9273-47df1d78a066",
   "metadata": {},
   "outputs": [
    {
     "data": {
      "text/plain": [
       "(1115, 2)"
      ]
     },
     "execution_count": 15,
     "metadata": {},
     "output_type": "execute_result"
    }
   ],
   "source": [
    "spw.shape"
   ]
  },
  {
   "cell_type": "code",
   "execution_count": 20,
   "id": "f3482d65-0278-4c84-8b1b-3ce94537be38",
   "metadata": {},
   "outputs": [
    {
     "data": {
      "text/plain": [
       "(309, 2)"
      ]
     },
     "execution_count": 20,
     "metadata": {},
     "output_type": "execute_result"
    }
   ],
   "source": [
    "spw.query('genesymbol.notna()').shape"
   ]
  },
  {
   "cell_type": "markdown",
   "id": "ebb64084",
   "metadata": {},
   "source": [
    "PROGENy and CollecTRI have their own dedicated functions which work a similar way:"
   ]
  },
  {
   "cell_type": "markdown",
   "id": "ecbfc489-31dc-47d7-a81c-84df9c92c550",
   "metadata": {},
   "source": [
    "PROGENyとCollecTRIには、同様の働きをする専用の機能がある："
   ]
  },
  {
   "cell_type": "code",
   "execution_count": 13,
   "id": "6d2cfca1",
   "metadata": {},
   "outputs": [
    {
     "data": {
      "text/html": [
       "<div>\n",
       "<style scoped>\n",
       "    .dataframe tbody tr th:only-of-type {\n",
       "        vertical-align: middle;\n",
       "    }\n",
       "\n",
       "    .dataframe tbody tr th {\n",
       "        vertical-align: top;\n",
       "    }\n",
       "\n",
       "    .dataframe thead th {\n",
       "        text-align: right;\n",
       "    }\n",
       "</style>\n",
       "<table border=\"1\" class=\"dataframe\">\n",
       "  <thead>\n",
       "    <tr style=\"text-align: right;\">\n",
       "      <th></th>\n",
       "      <th>source</th>\n",
       "      <th>target</th>\n",
       "      <th>weight</th>\n",
       "      <th>p_value</th>\n",
       "    </tr>\n",
       "  </thead>\n",
       "  <tbody>\n",
       "    <tr>\n",
       "      <th>0</th>\n",
       "      <td>Androgen</td>\n",
       "      <td>Tmprss2</td>\n",
       "      <td>11.490631</td>\n",
       "      <td>0.000000e+00</td>\n",
       "    </tr>\n",
       "    <tr>\n",
       "      <th>1</th>\n",
       "      <td>Androgen</td>\n",
       "      <td>Nkx3-1</td>\n",
       "      <td>10.622551</td>\n",
       "      <td>2.242078e-44</td>\n",
       "    </tr>\n",
       "    <tr>\n",
       "      <th>2</th>\n",
       "      <td>Androgen</td>\n",
       "      <td>Mboat2</td>\n",
       "      <td>10.472733</td>\n",
       "      <td>4.624285e-44</td>\n",
       "    </tr>\n",
       "    <tr>\n",
       "      <th>3</th>\n",
       "      <td>Androgen</td>\n",
       "      <td>Sarg</td>\n",
       "      <td>11.386852</td>\n",
       "      <td>2.790209e-40</td>\n",
       "    </tr>\n",
       "    <tr>\n",
       "      <th>4</th>\n",
       "      <td>Androgen</td>\n",
       "      <td>Slc38a4</td>\n",
       "      <td>7.363805</td>\n",
       "      <td>1.253072e-39</td>\n",
       "    </tr>\n",
       "    <tr>\n",
       "      <th>...</th>\n",
       "      <td>...</td>\n",
       "      <td>...</td>\n",
       "      <td>...</td>\n",
       "      <td>...</td>\n",
       "    </tr>\n",
       "    <tr>\n",
       "      <th>1395</th>\n",
       "      <td>p53</td>\n",
       "      <td>Gm527</td>\n",
       "      <td>5.419560</td>\n",
       "      <td>2.742921e-11</td>\n",
       "    </tr>\n",
       "    <tr>\n",
       "      <th>1396</th>\n",
       "      <td>p53</td>\n",
       "      <td>Hepacam</td>\n",
       "      <td>4.416313</td>\n",
       "      <td>4.361244e-11</td>\n",
       "    </tr>\n",
       "    <tr>\n",
       "      <th>1397</th>\n",
       "      <td>p53</td>\n",
       "      <td>Rasal1</td>\n",
       "      <td>1.895177</td>\n",
       "      <td>5.096675e-11</td>\n",
       "    </tr>\n",
       "    <tr>\n",
       "      <th>1398</th>\n",
       "      <td>p53</td>\n",
       "      <td>Atp6ap2</td>\n",
       "      <td>2.461729</td>\n",
       "      <td>5.791803e-11</td>\n",
       "    </tr>\n",
       "    <tr>\n",
       "      <th>1399</th>\n",
       "      <td>p53</td>\n",
       "      <td>Znf385a</td>\n",
       "      <td>3.713681</td>\n",
       "      <td>5.903270e-11</td>\n",
       "    </tr>\n",
       "  </tbody>\n",
       "</table>\n",
       "<p>1400 rows × 4 columns</p>\n",
       "</div>"
      ],
      "text/plain": [
       "        source   target     weight       p_value\n",
       "0     Androgen  Tmprss2  11.490631  0.000000e+00\n",
       "1     Androgen   Nkx3-1  10.622551  2.242078e-44\n",
       "2     Androgen   Mboat2  10.472733  4.624285e-44\n",
       "3     Androgen     Sarg  11.386852  2.790209e-40\n",
       "4     Androgen  Slc38a4   7.363805  1.253072e-39\n",
       "...        ...      ...        ...           ...\n",
       "1395       p53    Gm527   5.419560  2.742921e-11\n",
       "1396       p53  Hepacam   4.416313  4.361244e-11\n",
       "1397       p53   Rasal1   1.895177  5.096675e-11\n",
       "1398       p53  Atp6ap2   2.461729  5.791803e-11\n",
       "1399       p53  Znf385a   3.713681  5.903270e-11\n",
       "\n",
       "[1400 rows x 4 columns]"
      ]
     },
     "execution_count": 13,
     "metadata": {},
     "output_type": "execute_result"
    }
   ],
   "source": [
    "dc.get_progeny(organism='Mus musculus')"
   ]
  },
  {
   "cell_type": "code",
   "execution_count": 14,
   "id": "82e8f694",
   "metadata": {
    "tags": []
   },
   "outputs": [
    {
     "data": {
      "application/vnd.jupyter.widget-view+json": {
       "model_id": "6e6f390bbb104636bccb6cc8737e6fc2",
       "version_major": 2,
       "version_minor": 0
      },
      "text/plain": [
       "0.00B [00:00, ?B/s]"
      ]
     },
     "metadata": {},
     "output_type": "display_data"
    },
    {
     "data": {
      "text/html": [
       "<div>\n",
       "<style scoped>\n",
       "    .dataframe tbody tr th:only-of-type {\n",
       "        vertical-align: middle;\n",
       "    }\n",
       "\n",
       "    .dataframe tbody tr th {\n",
       "        vertical-align: top;\n",
       "    }\n",
       "\n",
       "    .dataframe thead th {\n",
       "        text-align: right;\n",
       "    }\n",
       "</style>\n",
       "<table border=\"1\" class=\"dataframe\">\n",
       "  <thead>\n",
       "    <tr style=\"text-align: right;\">\n",
       "      <th></th>\n",
       "      <th>source</th>\n",
       "      <th>target</th>\n",
       "      <th>weight</th>\n",
       "      <th>PMID</th>\n",
       "    </tr>\n",
       "  </thead>\n",
       "  <tbody>\n",
       "    <tr>\n",
       "      <th>0</th>\n",
       "      <td>Myc</td>\n",
       "      <td>Tert</td>\n",
       "      <td>1</td>\n",
       "      <td>10022128;10491298;10606235;10637317;10723141;1...</td>\n",
       "    </tr>\n",
       "    <tr>\n",
       "      <th>1</th>\n",
       "      <td>Spi1</td>\n",
       "      <td>Bglap</td>\n",
       "      <td>1</td>\n",
       "      <td>10022617</td>\n",
       "    </tr>\n",
       "    <tr>\n",
       "      <th>2</th>\n",
       "      <td>Spi1</td>\n",
       "      <td>Bglap3</td>\n",
       "      <td>1</td>\n",
       "      <td>10022617</td>\n",
       "    </tr>\n",
       "    <tr>\n",
       "      <th>3</th>\n",
       "      <td>Spi1</td>\n",
       "      <td>Bglap2</td>\n",
       "      <td>1</td>\n",
       "      <td>10022617</td>\n",
       "    </tr>\n",
       "    <tr>\n",
       "      <th>4</th>\n",
       "      <td>Smad3</td>\n",
       "      <td>Jun</td>\n",
       "      <td>1</td>\n",
       "      <td>10022869;12374795</td>\n",
       "    </tr>\n",
       "    <tr>\n",
       "      <th>...</th>\n",
       "      <td>...</td>\n",
       "      <td>...</td>\n",
       "      <td>...</td>\n",
       "      <td>...</td>\n",
       "    </tr>\n",
       "    <tr>\n",
       "      <th>38660</th>\n",
       "      <td>Runx1</td>\n",
       "      <td>Lcp2</td>\n",
       "      <td>1</td>\n",
       "      <td>20019798</td>\n",
       "    </tr>\n",
       "    <tr>\n",
       "      <th>38661</th>\n",
       "      <td>Runx1</td>\n",
       "      <td>Prr5l</td>\n",
       "      <td>1</td>\n",
       "      <td>20019798</td>\n",
       "    </tr>\n",
       "    <tr>\n",
       "      <th>38662</th>\n",
       "      <td>Twist1</td>\n",
       "      <td>Gli1</td>\n",
       "      <td>1</td>\n",
       "      <td>11948912</td>\n",
       "    </tr>\n",
       "    <tr>\n",
       "      <th>38663</th>\n",
       "      <td>Usf1</td>\n",
       "      <td>Nup188</td>\n",
       "      <td>1</td>\n",
       "      <td>22951020</td>\n",
       "    </tr>\n",
       "    <tr>\n",
       "      <th>38664</th>\n",
       "      <td>Znf148</td>\n",
       "      <td>Rnls</td>\n",
       "      <td>1</td>\n",
       "      <td>25295465</td>\n",
       "    </tr>\n",
       "  </tbody>\n",
       "</table>\n",
       "<p>38665 rows × 4 columns</p>\n",
       "</div>"
      ],
      "text/plain": [
       "       source  target  weight  \\\n",
       "0         Myc    Tert       1   \n",
       "1        Spi1   Bglap       1   \n",
       "2        Spi1  Bglap3       1   \n",
       "3        Spi1  Bglap2       1   \n",
       "4       Smad3     Jun       1   \n",
       "...       ...     ...     ...   \n",
       "38660   Runx1    Lcp2       1   \n",
       "38661   Runx1   Prr5l       1   \n",
       "38662  Twist1    Gli1       1   \n",
       "38663    Usf1  Nup188       1   \n",
       "38664  Znf148    Rnls       1   \n",
       "\n",
       "                                                    PMID  \n",
       "0      10022128;10491298;10606235;10637317;10723141;1...  \n",
       "1                                               10022617  \n",
       "2                                               10022617  \n",
       "3                                               10022617  \n",
       "4                                      10022869;12374795  \n",
       "...                                                  ...  \n",
       "38660                                           20019798  \n",
       "38661                                           20019798  \n",
       "38662                                           11948912  \n",
       "38663                                           22951020  \n",
       "38664                                           25295465  \n",
       "\n",
       "[38665 rows x 4 columns]"
      ]
     },
     "execution_count": 14,
     "metadata": {},
     "output_type": "execute_result"
    }
   ],
   "source": [
    "dc.get_collectri(organism='mouse')"
   ]
  },
  {
   "cell_type": "code",
   "execution_count": null,
   "id": "af7df508-b9a7-473c-a569-b049ce8a762e",
   "metadata": {},
   "outputs": [],
   "source": []
  }
 ],
 "metadata": {
  "kernelspec": {
   "display_name": "py_scvi",
   "language": "python",
   "name": "py_scvi"
  },
  "language_info": {
   "codemirror_mode": {
    "name": "ipython",
    "version": 3
   },
   "file_extension": ".py",
   "mimetype": "text/x-python",
   "name": "python",
   "nbconvert_exporter": "python",
   "pygments_lexer": "ipython3",
   "version": "3.10.14"
  }
 },
 "nbformat": 4,
 "nbformat_minor": 5
}
